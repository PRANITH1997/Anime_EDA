{
 "cells": [
  {
   "cell_type": "code",
   "execution_count": 1,
   "id": "459f19fc",
   "metadata": {},
   "outputs": [],
   "source": [
    "import pandas as pd\n",
    "import numpy as np\n",
    "from matplotlib import pyplot as plt\n",
    "import seaborn as sns\n",
    "import sklearn as sk\n",
    "import re"
   ]
  },
  {
   "cell_type": "code",
   "execution_count": 2,
   "id": "8776a403",
   "metadata": {},
   "outputs": [],
   "source": [
    "df = pd.read_csv('dataanime.csv', encoding = 'unicode_escape')"
   ]
  },
  {
   "cell_type": "code",
   "execution_count": 3,
   "id": "d461cfca",
   "metadata": {},
   "outputs": [
    {
     "data": {
      "text/html": [
       "<div>\n",
       "<style scoped>\n",
       "    .dataframe tbody tr th:only-of-type {\n",
       "        vertical-align: middle;\n",
       "    }\n",
       "\n",
       "    .dataframe tbody tr th {\n",
       "        vertical-align: top;\n",
       "    }\n",
       "\n",
       "    .dataframe thead th {\n",
       "        text-align: right;\n",
       "    }\n",
       "</style>\n",
       "<table border=\"1\" class=\"dataframe\">\n",
       "  <thead>\n",
       "    <tr style=\"text-align: right;\">\n",
       "      <th></th>\n",
       "      <th>Title</th>\n",
       "      <th>Type</th>\n",
       "      <th>Episodes</th>\n",
       "      <th>Status</th>\n",
       "      <th>Start airing</th>\n",
       "      <th>End airing</th>\n",
       "      <th>Starting season</th>\n",
       "      <th>Broadcast time</th>\n",
       "      <th>Producers</th>\n",
       "      <th>Licensors</th>\n",
       "      <th>Studios</th>\n",
       "      <th>Sources</th>\n",
       "      <th>Genres</th>\n",
       "      <th>Duration</th>\n",
       "      <th>Rating</th>\n",
       "      <th>Score</th>\n",
       "      <th>Scored by</th>\n",
       "      <th>Members</th>\n",
       "      <th>Favorites</th>\n",
       "      <th>Description</th>\n",
       "    </tr>\n",
       "  </thead>\n",
       "  <tbody>\n",
       "    <tr>\n",
       "      <th>0</th>\n",
       "      <td>Fullmetal Alchemist: Brotherhood</td>\n",
       "      <td>TV</td>\n",
       "      <td>64</td>\n",
       "      <td>Finished Airing</td>\n",
       "      <td>2009-4-5</td>\n",
       "      <td>2010-7-4</td>\n",
       "      <td>Spring</td>\n",
       "      <td>Sundays at 17:00 (JST)</td>\n",
       "      <td>Aniplex,Square Enix,Mainichi Broadcasting Syst...</td>\n",
       "      <td>Funimation,Aniplex of America</td>\n",
       "      <td>Bones</td>\n",
       "      <td>Manga</td>\n",
       "      <td>Action,Military,Adventure,Comedy,Drama,Magic,F...</td>\n",
       "      <td>24 min. per ep.</td>\n",
       "      <td>R</td>\n",
       "      <td>9.25</td>\n",
       "      <td>719706</td>\n",
       "      <td>1176368</td>\n",
       "      <td>105387</td>\n",
       "      <td>\"In order for something to be obtained, someth...</td>\n",
       "    </tr>\n",
       "    <tr>\n",
       "      <th>1</th>\n",
       "      <td>Kimi no Na wa.</td>\n",
       "      <td>Movie</td>\n",
       "      <td>1</td>\n",
       "      <td>Finished Airing</td>\n",
       "      <td>2016-8-26</td>\n",
       "      <td>-</td>\n",
       "      <td>-</td>\n",
       "      <td>-</td>\n",
       "      <td>Kadokawa Shoten,Toho,Sound Team Don Juan,Lawso...</td>\n",
       "      <td>Funimation,NYAV Post</td>\n",
       "      <td>CoMix Wave Films</td>\n",
       "      <td>Original</td>\n",
       "      <td>Supernatural,Drama,Romance,School</td>\n",
       "      <td>1 hr. 46 min.</td>\n",
       "      <td>PG-13</td>\n",
       "      <td>9.19</td>\n",
       "      <td>454969</td>\n",
       "      <td>705186</td>\n",
       "      <td>33936</td>\n",
       "      <td>Mitsuha Miyamizu, a high school girl, yearns t...</td>\n",
       "    </tr>\n",
       "    <tr>\n",
       "      <th>2</th>\n",
       "      <td>GintamaÂ°</td>\n",
       "      <td>TV</td>\n",
       "      <td>51</td>\n",
       "      <td>Finished Airing</td>\n",
       "      <td>2015-4-8</td>\n",
       "      <td>2016-3-30</td>\n",
       "      <td>Spring</td>\n",
       "      <td>Wednesdays at 18:00 (JST)</td>\n",
       "      <td>TV Tokyo,Aniplex,Dentsu</td>\n",
       "      <td>Funimation,Crunchyroll</td>\n",
       "      <td>Bandai Namco Pictures</td>\n",
       "      <td>Manga</td>\n",
       "      <td>Action,Comedy,Historical,Parody,Samurai,Sci-Fi...</td>\n",
       "      <td>24 min. per ep.</td>\n",
       "      <td>R</td>\n",
       "      <td>9.16</td>\n",
       "      <td>70279</td>\n",
       "      <td>194359</td>\n",
       "      <td>5597</td>\n",
       "      <td>Gintoki, Shinpachi, and Kagura return as the f...</td>\n",
       "    </tr>\n",
       "    <tr>\n",
       "      <th>3</th>\n",
       "      <td>Steins;Gate 0</td>\n",
       "      <td>TV</td>\n",
       "      <td>23</td>\n",
       "      <td>Currently Airing</td>\n",
       "      <td>2018-4-12</td>\n",
       "      <td>-</td>\n",
       "      <td>Spring</td>\n",
       "      <td>Thursdays at 01:35 (JST)</td>\n",
       "      <td>Nitroplus</td>\n",
       "      <td>Funimation</td>\n",
       "      <td>White Fox</td>\n",
       "      <td>Visual novel</td>\n",
       "      <td>Sci-Fi,Thriller</td>\n",
       "      <td>23 min. per ep.</td>\n",
       "      <td>PG-13</td>\n",
       "      <td>9.16</td>\n",
       "      <td>12609</td>\n",
       "      <td>186331</td>\n",
       "      <td>1117</td>\n",
       "      <td>The dark untold story of Steins;Gate that lead...</td>\n",
       "    </tr>\n",
       "    <tr>\n",
       "      <th>4</th>\n",
       "      <td>Steins;Gate</td>\n",
       "      <td>TV</td>\n",
       "      <td>24</td>\n",
       "      <td>Finished Airing</td>\n",
       "      <td>2011-4-6</td>\n",
       "      <td>2011-9-14</td>\n",
       "      <td>Spring</td>\n",
       "      <td>Wednesdays at 02:05 (JST)</td>\n",
       "      <td>Frontier Works,Media Factory,Movic,AT-X,Kadoka...</td>\n",
       "      <td>Funimation</td>\n",
       "      <td>White Fox</td>\n",
       "      <td>Visual novel</td>\n",
       "      <td>Sci-Fi,Thriller</td>\n",
       "      <td>24 min. per ep.</td>\n",
       "      <td>PG-13</td>\n",
       "      <td>9.14</td>\n",
       "      <td>552791</td>\n",
       "      <td>990419</td>\n",
       "      <td>90365</td>\n",
       "      <td>The self-proclaimed mad scientist Rintarou Oka...</td>\n",
       "    </tr>\n",
       "  </tbody>\n",
       "</table>\n",
       "</div>"
      ],
      "text/plain": [
       "                              Title   Type Episodes            Status  \\\n",
       "0  Fullmetal Alchemist: Brotherhood     TV       64   Finished Airing   \n",
       "1                    Kimi no Na wa.  Movie        1   Finished Airing   \n",
       "2                         GintamaÂ°     TV       51   Finished Airing   \n",
       "3                     Steins;Gate 0     TV       23  Currently Airing   \n",
       "4                       Steins;Gate     TV       24   Finished Airing   \n",
       "\n",
       "  Start airing End airing Starting season             Broadcast time  \\\n",
       "0     2009-4-5   2010-7-4          Spring     Sundays at 17:00 (JST)   \n",
       "1    2016-8-26          -               -                          -   \n",
       "2     2015-4-8  2016-3-30          Spring  Wednesdays at 18:00 (JST)   \n",
       "3    2018-4-12          -          Spring   Thursdays at 01:35 (JST)   \n",
       "4     2011-4-6  2011-9-14          Spring  Wednesdays at 02:05 (JST)   \n",
       "\n",
       "                                           Producers  \\\n",
       "0  Aniplex,Square Enix,Mainichi Broadcasting Syst...   \n",
       "1  Kadokawa Shoten,Toho,Sound Team Don Juan,Lawso...   \n",
       "2                            TV Tokyo,Aniplex,Dentsu   \n",
       "3                                          Nitroplus   \n",
       "4  Frontier Works,Media Factory,Movic,AT-X,Kadoka...   \n",
       "\n",
       "                       Licensors                Studios       Sources  \\\n",
       "0  Funimation,Aniplex of America                  Bones         Manga   \n",
       "1           Funimation,NYAV Post       CoMix Wave Films      Original   \n",
       "2         Funimation,Crunchyroll  Bandai Namco Pictures         Manga   \n",
       "3                     Funimation              White Fox  Visual novel   \n",
       "4                     Funimation              White Fox  Visual novel   \n",
       "\n",
       "                                              Genres         Duration Rating  \\\n",
       "0  Action,Military,Adventure,Comedy,Drama,Magic,F...  24 min. per ep.      R   \n",
       "1                  Supernatural,Drama,Romance,School    1 hr. 46 min.  PG-13   \n",
       "2  Action,Comedy,Historical,Parody,Samurai,Sci-Fi...  24 min. per ep.      R   \n",
       "3                                    Sci-Fi,Thriller  23 min. per ep.  PG-13   \n",
       "4                                    Sci-Fi,Thriller  24 min. per ep.  PG-13   \n",
       "\n",
       "   Score  Scored by  Members  Favorites  \\\n",
       "0   9.25     719706  1176368     105387   \n",
       "1   9.19     454969   705186      33936   \n",
       "2   9.16      70279   194359       5597   \n",
       "3   9.16      12609   186331       1117   \n",
       "4   9.14     552791   990419      90365   \n",
       "\n",
       "                                         Description  \n",
       "0  \"In order for something to be obtained, someth...  \n",
       "1  Mitsuha Miyamizu, a high school girl, yearns t...  \n",
       "2  Gintoki, Shinpachi, and Kagura return as the f...  \n",
       "3  The dark untold story of Steins;Gate that lead...  \n",
       "4  The self-proclaimed mad scientist Rintarou Oka...  "
      ]
     },
     "execution_count": 3,
     "metadata": {},
     "output_type": "execute_result"
    }
   ],
   "source": [
    "df.head(5)"
   ]
  },
  {
   "cell_type": "code",
   "execution_count": 4,
   "id": "5358697d",
   "metadata": {},
   "outputs": [
    {
     "data": {
      "text/plain": [
       "Index(['Title', 'Type', 'Episodes', 'Status', 'Start airing', 'End airing',\n",
       "       'Starting season', 'Broadcast time', 'Producers', 'Licensors',\n",
       "       'Studios', 'Sources', 'Genres', 'Duration', 'Rating', 'Score',\n",
       "       'Scored by', 'Members', 'Favorites', 'Description'],\n",
       "      dtype='object')"
      ]
     },
     "execution_count": 4,
     "metadata": {},
     "output_type": "execute_result"
    }
   ],
   "source": [
    "df.columns"
   ]
  },
  {
   "cell_type": "code",
   "execution_count": 5,
   "id": "92417a45",
   "metadata": {},
   "outputs": [
    {
     "name": "stdout",
     "output_type": "stream",
     "text": [
      "<class 'pandas.core.frame.DataFrame'>\n",
      "RangeIndex: 1563 entries, 0 to 1562\n",
      "Data columns (total 20 columns):\n",
      " #   Column           Non-Null Count  Dtype  \n",
      "---  ------           --------------  -----  \n",
      " 0   Title            1563 non-null   object \n",
      " 1   Type             1563 non-null   object \n",
      " 2   Episodes         1563 non-null   object \n",
      " 3   Status           1563 non-null   object \n",
      " 4   Start airing     1563 non-null   object \n",
      " 5   End airing       1563 non-null   object \n",
      " 6   Starting season  1563 non-null   object \n",
      " 7   Broadcast time   1563 non-null   object \n",
      " 8   Producers        1563 non-null   object \n",
      " 9   Licensors        1563 non-null   object \n",
      " 10  Studios          1563 non-null   object \n",
      " 11  Sources          1563 non-null   object \n",
      " 12  Genres           1563 non-null   object \n",
      " 13  Duration         1563 non-null   object \n",
      " 14  Rating           1563 non-null   object \n",
      " 15  Score            1563 non-null   float64\n",
      " 16  Scored by        1563 non-null   int64  \n",
      " 17  Members          1563 non-null   int64  \n",
      " 18  Favorites        1563 non-null   int64  \n",
      " 19  Description      1563 non-null   object \n",
      "dtypes: float64(1), int64(3), object(16)\n",
      "memory usage: 244.3+ KB\n"
     ]
    }
   ],
   "source": [
    "df.info()"
   ]
  },
  {
   "cell_type": "code",
   "execution_count": 6,
   "id": "3986ed9c",
   "metadata": {},
   "outputs": [
    {
     "data": {
      "text/html": [
       "<div>\n",
       "<style scoped>\n",
       "    .dataframe tbody tr th:only-of-type {\n",
       "        vertical-align: middle;\n",
       "    }\n",
       "\n",
       "    .dataframe tbody tr th {\n",
       "        vertical-align: top;\n",
       "    }\n",
       "\n",
       "    .dataframe thead th {\n",
       "        text-align: right;\n",
       "    }\n",
       "</style>\n",
       "<table border=\"1\" class=\"dataframe\">\n",
       "  <thead>\n",
       "    <tr style=\"text-align: right;\">\n",
       "      <th></th>\n",
       "      <th>Score</th>\n",
       "      <th>Scored by</th>\n",
       "      <th>Members</th>\n",
       "      <th>Favorites</th>\n",
       "    </tr>\n",
       "  </thead>\n",
       "  <tbody>\n",
       "    <tr>\n",
       "      <th>count</th>\n",
       "      <td>1563.000000</td>\n",
       "      <td>1563.000000</td>\n",
       "      <td>1.563000e+03</td>\n",
       "      <td>1563.00000</td>\n",
       "    </tr>\n",
       "    <tr>\n",
       "      <th>mean</th>\n",
       "      <td>7.905144</td>\n",
       "      <td>60537.209213</td>\n",
       "      <td>1.153567e+05</td>\n",
       "      <td>2309.15483</td>\n",
       "    </tr>\n",
       "    <tr>\n",
       "      <th>std</th>\n",
       "      <td>0.340127</td>\n",
       "      <td>99856.869169</td>\n",
       "      <td>1.669685e+05</td>\n",
       "      <td>7358.06195</td>\n",
       "    </tr>\n",
       "    <tr>\n",
       "      <th>min</th>\n",
       "      <td>7.480000</td>\n",
       "      <td>144.000000</td>\n",
       "      <td>7.810000e+02</td>\n",
       "      <td>1.00000</td>\n",
       "    </tr>\n",
       "    <tr>\n",
       "      <th>25%</th>\n",
       "      <td>7.630000</td>\n",
       "      <td>6876.000000</td>\n",
       "      <td>1.738050e+04</td>\n",
       "      <td>54.00000</td>\n",
       "    </tr>\n",
       "    <tr>\n",
       "      <th>50%</th>\n",
       "      <td>7.820000</td>\n",
       "      <td>24730.000000</td>\n",
       "      <td>5.209700e+04</td>\n",
       "      <td>264.00000</td>\n",
       "    </tr>\n",
       "    <tr>\n",
       "      <th>75%</th>\n",
       "      <td>8.110000</td>\n",
       "      <td>68933.500000</td>\n",
       "      <td>1.367520e+05</td>\n",
       "      <td>1273.00000</td>\n",
       "    </tr>\n",
       "    <tr>\n",
       "      <th>max</th>\n",
       "      <td>9.250000</td>\n",
       "      <td>993775.000000</td>\n",
       "      <td>1.432871e+06</td>\n",
       "      <td>105387.00000</td>\n",
       "    </tr>\n",
       "  </tbody>\n",
       "</table>\n",
       "</div>"
      ],
      "text/plain": [
       "             Score      Scored by       Members     Favorites\n",
       "count  1563.000000    1563.000000  1.563000e+03    1563.00000\n",
       "mean      7.905144   60537.209213  1.153567e+05    2309.15483\n",
       "std       0.340127   99856.869169  1.669685e+05    7358.06195\n",
       "min       7.480000     144.000000  7.810000e+02       1.00000\n",
       "25%       7.630000    6876.000000  1.738050e+04      54.00000\n",
       "50%       7.820000   24730.000000  5.209700e+04     264.00000\n",
       "75%       8.110000   68933.500000  1.367520e+05    1273.00000\n",
       "max       9.250000  993775.000000  1.432871e+06  105387.00000"
      ]
     },
     "execution_count": 6,
     "metadata": {},
     "output_type": "execute_result"
    }
   ],
   "source": [
    "df.describe()"
   ]
  },
  {
   "cell_type": "code",
   "execution_count": 7,
   "id": "0cbfd3f1",
   "metadata": {},
   "outputs": [
    {
     "data": {
      "text/plain": [
       "Title              0\n",
       "Type               0\n",
       "Episodes           0\n",
       "Status             0\n",
       "Start airing       0\n",
       "End airing         0\n",
       "Starting season    0\n",
       "Broadcast time     0\n",
       "Producers          0\n",
       "Licensors          0\n",
       "Studios            0\n",
       "Sources            0\n",
       "Genres             0\n",
       "Duration           0\n",
       "Rating             0\n",
       "Score              0\n",
       "Scored by          0\n",
       "Members            0\n",
       "Favorites          0\n",
       "Description        0\n",
       "dtype: int64"
      ]
     },
     "execution_count": 7,
     "metadata": {},
     "output_type": "execute_result"
    }
   ],
   "source": [
    "df.isnull().sum()"
   ]
  },
  {
   "cell_type": "code",
   "execution_count": 8,
   "id": "59f57476",
   "metadata": {},
   "outputs": [],
   "source": [
    "def cleaning_df(data):\n",
    "    pattern = r'[!@#$%^&*()_+{}\\[\\]:;\"\\'<>.?/\\|\\\\,Â°,0,^£]'\n",
    "    return re.sub(pattern, \" \", data)\n",
    "df['Title'] = df['Title'].apply(cleaning_df)"
   ]
  },
  {
   "cell_type": "code",
   "execution_count": 9,
   "id": "1b0fe92d",
   "metadata": {},
   "outputs": [],
   "source": [
    "df['Description'] = df['Description'].apply(cleaning_df)"
   ]
  },
  {
   "cell_type": "code",
   "execution_count": 10,
   "id": "cb7e8fc0",
   "metadata": {},
   "outputs": [
    {
     "data": {
      "text/html": [
       "<div>\n",
       "<style scoped>\n",
       "    .dataframe tbody tr th:only-of-type {\n",
       "        vertical-align: middle;\n",
       "    }\n",
       "\n",
       "    .dataframe tbody tr th {\n",
       "        vertical-align: top;\n",
       "    }\n",
       "\n",
       "    .dataframe thead th {\n",
       "        text-align: right;\n",
       "    }\n",
       "</style>\n",
       "<table border=\"1\" class=\"dataframe\">\n",
       "  <thead>\n",
       "    <tr style=\"text-align: right;\">\n",
       "      <th></th>\n",
       "      <th>Title</th>\n",
       "      <th>Type</th>\n",
       "      <th>Episodes</th>\n",
       "      <th>Status</th>\n",
       "      <th>Start airing</th>\n",
       "      <th>End airing</th>\n",
       "      <th>Starting season</th>\n",
       "      <th>Broadcast time</th>\n",
       "      <th>Producers</th>\n",
       "      <th>Licensors</th>\n",
       "      <th>Studios</th>\n",
       "      <th>Sources</th>\n",
       "      <th>Genres</th>\n",
       "      <th>Duration</th>\n",
       "      <th>Rating</th>\n",
       "      <th>Score</th>\n",
       "      <th>Scored by</th>\n",
       "      <th>Members</th>\n",
       "      <th>Favorites</th>\n",
       "      <th>Description</th>\n",
       "    </tr>\n",
       "  </thead>\n",
       "  <tbody>\n",
       "    <tr>\n",
       "      <th>0</th>\n",
       "      <td>Fullmetal Alchemist  Brotherhood</td>\n",
       "      <td>TV</td>\n",
       "      <td>64</td>\n",
       "      <td>Finished Airing</td>\n",
       "      <td>2009-4-5</td>\n",
       "      <td>2010-7-4</td>\n",
       "      <td>Spring</td>\n",
       "      <td>Sundays at 17:00 (JST)</td>\n",
       "      <td>Aniplex,Square Enix,Mainichi Broadcasting Syst...</td>\n",
       "      <td>Funimation,Aniplex of America</td>\n",
       "      <td>Bones</td>\n",
       "      <td>Manga</td>\n",
       "      <td>Action,Military,Adventure,Comedy,Drama,Magic,F...</td>\n",
       "      <td>24 min. per ep.</td>\n",
       "      <td>R</td>\n",
       "      <td>9.25</td>\n",
       "      <td>719706</td>\n",
       "      <td>1176368</td>\n",
       "      <td>105387</td>\n",
       "      <td>In order for something to be obtained  someth...</td>\n",
       "    </tr>\n",
       "    <tr>\n",
       "      <th>1</th>\n",
       "      <td>Kimi no Na wa</td>\n",
       "      <td>Movie</td>\n",
       "      <td>1</td>\n",
       "      <td>Finished Airing</td>\n",
       "      <td>2016-8-26</td>\n",
       "      <td>-</td>\n",
       "      <td>-</td>\n",
       "      <td>-</td>\n",
       "      <td>Kadokawa Shoten,Toho,Sound Team Don Juan,Lawso...</td>\n",
       "      <td>Funimation,NYAV Post</td>\n",
       "      <td>CoMix Wave Films</td>\n",
       "      <td>Original</td>\n",
       "      <td>Supernatural,Drama,Romance,School</td>\n",
       "      <td>1 hr. 46 min.</td>\n",
       "      <td>PG-13</td>\n",
       "      <td>9.19</td>\n",
       "      <td>454969</td>\n",
       "      <td>705186</td>\n",
       "      <td>33936</td>\n",
       "      <td>Mitsuha Miyamizu  a high school girl  yearns t...</td>\n",
       "    </tr>\n",
       "    <tr>\n",
       "      <th>2</th>\n",
       "      <td>Gintama</td>\n",
       "      <td>TV</td>\n",
       "      <td>51</td>\n",
       "      <td>Finished Airing</td>\n",
       "      <td>2015-4-8</td>\n",
       "      <td>2016-3-30</td>\n",
       "      <td>Spring</td>\n",
       "      <td>Wednesdays at 18:00 (JST)</td>\n",
       "      <td>TV Tokyo,Aniplex,Dentsu</td>\n",
       "      <td>Funimation,Crunchyroll</td>\n",
       "      <td>Bandai Namco Pictures</td>\n",
       "      <td>Manga</td>\n",
       "      <td>Action,Comedy,Historical,Parody,Samurai,Sci-Fi...</td>\n",
       "      <td>24 min. per ep.</td>\n",
       "      <td>R</td>\n",
       "      <td>9.16</td>\n",
       "      <td>70279</td>\n",
       "      <td>194359</td>\n",
       "      <td>5597</td>\n",
       "      <td>Gintoki  Shinpachi  and Kagura return as the f...</td>\n",
       "    </tr>\n",
       "    <tr>\n",
       "      <th>3</th>\n",
       "      <td>Steins Gate</td>\n",
       "      <td>TV</td>\n",
       "      <td>23</td>\n",
       "      <td>Currently Airing</td>\n",
       "      <td>2018-4-12</td>\n",
       "      <td>-</td>\n",
       "      <td>Spring</td>\n",
       "      <td>Thursdays at 01:35 (JST)</td>\n",
       "      <td>Nitroplus</td>\n",
       "      <td>Funimation</td>\n",
       "      <td>White Fox</td>\n",
       "      <td>Visual novel</td>\n",
       "      <td>Sci-Fi,Thriller</td>\n",
       "      <td>23 min. per ep.</td>\n",
       "      <td>PG-13</td>\n",
       "      <td>9.16</td>\n",
       "      <td>12609</td>\n",
       "      <td>186331</td>\n",
       "      <td>1117</td>\n",
       "      <td>The dark untold story of Steins Gate that lead...</td>\n",
       "    </tr>\n",
       "    <tr>\n",
       "      <th>4</th>\n",
       "      <td>Steins Gate</td>\n",
       "      <td>TV</td>\n",
       "      <td>24</td>\n",
       "      <td>Finished Airing</td>\n",
       "      <td>2011-4-6</td>\n",
       "      <td>2011-9-14</td>\n",
       "      <td>Spring</td>\n",
       "      <td>Wednesdays at 02:05 (JST)</td>\n",
       "      <td>Frontier Works,Media Factory,Movic,AT-X,Kadoka...</td>\n",
       "      <td>Funimation</td>\n",
       "      <td>White Fox</td>\n",
       "      <td>Visual novel</td>\n",
       "      <td>Sci-Fi,Thriller</td>\n",
       "      <td>24 min. per ep.</td>\n",
       "      <td>PG-13</td>\n",
       "      <td>9.14</td>\n",
       "      <td>552791</td>\n",
       "      <td>990419</td>\n",
       "      <td>90365</td>\n",
       "      <td>The self-proclaimed mad scientist Rintarou Oka...</td>\n",
       "    </tr>\n",
       "  </tbody>\n",
       "</table>\n",
       "</div>"
      ],
      "text/plain": [
       "                              Title   Type Episodes            Status  \\\n",
       "0  Fullmetal Alchemist  Brotherhood     TV       64   Finished Airing   \n",
       "1                    Kimi no Na wa   Movie        1   Finished Airing   \n",
       "2                         Gintama       TV       51   Finished Airing   \n",
       "3                     Steins Gate       TV       23  Currently Airing   \n",
       "4                       Steins Gate     TV       24   Finished Airing   \n",
       "\n",
       "  Start airing End airing Starting season             Broadcast time  \\\n",
       "0     2009-4-5   2010-7-4          Spring     Sundays at 17:00 (JST)   \n",
       "1    2016-8-26          -               -                          -   \n",
       "2     2015-4-8  2016-3-30          Spring  Wednesdays at 18:00 (JST)   \n",
       "3    2018-4-12          -          Spring   Thursdays at 01:35 (JST)   \n",
       "4     2011-4-6  2011-9-14          Spring  Wednesdays at 02:05 (JST)   \n",
       "\n",
       "                                           Producers  \\\n",
       "0  Aniplex,Square Enix,Mainichi Broadcasting Syst...   \n",
       "1  Kadokawa Shoten,Toho,Sound Team Don Juan,Lawso...   \n",
       "2                            TV Tokyo,Aniplex,Dentsu   \n",
       "3                                          Nitroplus   \n",
       "4  Frontier Works,Media Factory,Movic,AT-X,Kadoka...   \n",
       "\n",
       "                       Licensors                Studios       Sources  \\\n",
       "0  Funimation,Aniplex of America                  Bones         Manga   \n",
       "1           Funimation,NYAV Post       CoMix Wave Films      Original   \n",
       "2         Funimation,Crunchyroll  Bandai Namco Pictures         Manga   \n",
       "3                     Funimation              White Fox  Visual novel   \n",
       "4                     Funimation              White Fox  Visual novel   \n",
       "\n",
       "                                              Genres         Duration Rating  \\\n",
       "0  Action,Military,Adventure,Comedy,Drama,Magic,F...  24 min. per ep.      R   \n",
       "1                  Supernatural,Drama,Romance,School    1 hr. 46 min.  PG-13   \n",
       "2  Action,Comedy,Historical,Parody,Samurai,Sci-Fi...  24 min. per ep.      R   \n",
       "3                                    Sci-Fi,Thriller  23 min. per ep.  PG-13   \n",
       "4                                    Sci-Fi,Thriller  24 min. per ep.  PG-13   \n",
       "\n",
       "   Score  Scored by  Members  Favorites  \\\n",
       "0   9.25     719706  1176368     105387   \n",
       "1   9.19     454969   705186      33936   \n",
       "2   9.16      70279   194359       5597   \n",
       "3   9.16      12609   186331       1117   \n",
       "4   9.14     552791   990419      90365   \n",
       "\n",
       "                                         Description  \n",
       "0   In order for something to be obtained  someth...  \n",
       "1  Mitsuha Miyamizu  a high school girl  yearns t...  \n",
       "2  Gintoki  Shinpachi  and Kagura return as the f...  \n",
       "3  The dark untold story of Steins Gate that lead...  \n",
       "4  The self-proclaimed mad scientist Rintarou Oka...  "
      ]
     },
     "execution_count": 10,
     "metadata": {},
     "output_type": "execute_result"
    }
   ],
   "source": [
    "df.head(5)"
   ]
  },
  {
   "cell_type": "code",
   "execution_count": 11,
   "id": "991aad0f",
   "metadata": {},
   "outputs": [
    {
     "data": {
      "text/plain": [
       "Index(['Title', 'Type', 'Episodes', 'Status', 'Start airing', 'End airing',\n",
       "       'Starting season', 'Broadcast time', 'Producers', 'Licensors',\n",
       "       'Studios', 'Sources', 'Genres', 'Duration', 'Rating', 'Score',\n",
       "       'Scored by', 'Members', 'Favorites', 'Description'],\n",
       "      dtype='object')"
      ]
     },
     "execution_count": 11,
     "metadata": {},
     "output_type": "execute_result"
    }
   ],
   "source": [
    "df.columns"
   ]
  },
  {
   "cell_type": "code",
   "execution_count": 12,
   "id": "73fc682d",
   "metadata": {},
   "outputs": [],
   "source": [
    "df = df[['Title', 'Type', 'Episodes', \n",
    "    #'Status', \n",
    "    'Start airing', 'End airing',\n",
    "      # 'Starting season', \n",
    "    'Broadcast time', \n",
    "    #'Producers', 'Licensors',\n",
    "       #'Studios', \n",
    "    'Sources', 'Genres', 'Duration', 'Rating', 'Score',\n",
    "       #'Scored by', 'Members', 'Favorites', \n",
    "    'Description']]"
   ]
  },
  {
   "cell_type": "code",
   "execution_count": 13,
   "id": "1a428012",
   "metadata": {},
   "outputs": [
    {
     "data": {
      "text/plain": [
       "Index(['Title', 'Type', 'Episodes', 'Start airing', 'End airing',\n",
       "       'Broadcast time', 'Sources', 'Genres', 'Duration', 'Rating', 'Score',\n",
       "       'Description'],\n",
       "      dtype='object')"
      ]
     },
     "execution_count": 13,
     "metadata": {},
     "output_type": "execute_result"
    }
   ],
   "source": [
    "df.columns"
   ]
  },
  {
   "cell_type": "code",
   "execution_count": 14,
   "id": "f63474ea",
   "metadata": {},
   "outputs": [],
   "source": [
    "df.rename(columns = {'Score': 'ImDb_Score'}, inplace = True)"
   ]
  },
  {
   "cell_type": "code",
   "execution_count": 15,
   "id": "1405d570",
   "metadata": {},
   "outputs": [
    {
     "data": {
      "text/plain": [
       "Index(['Title', 'Type', 'Episodes', 'Start airing', 'End airing',\n",
       "       'Broadcast time', 'Sources', 'Genres', 'Duration', 'Rating',\n",
       "       'ImDb_Score', 'Description'],\n",
       "      dtype='object')"
      ]
     },
     "execution_count": 15,
     "metadata": {},
     "output_type": "execute_result"
    }
   ],
   "source": [
    "df.columns"
   ]
  },
  {
   "cell_type": "code",
   "execution_count": 16,
   "id": "ef721e04",
   "metadata": {},
   "outputs": [
    {
     "data": {
      "text/html": [
       "<div>\n",
       "<style scoped>\n",
       "    .dataframe tbody tr th:only-of-type {\n",
       "        vertical-align: middle;\n",
       "    }\n",
       "\n",
       "    .dataframe tbody tr th {\n",
       "        vertical-align: top;\n",
       "    }\n",
       "\n",
       "    .dataframe thead th {\n",
       "        text-align: right;\n",
       "    }\n",
       "</style>\n",
       "<table border=\"1\" class=\"dataframe\">\n",
       "  <thead>\n",
       "    <tr style=\"text-align: right;\">\n",
       "      <th></th>\n",
       "      <th>Title</th>\n",
       "      <th>Type</th>\n",
       "      <th>Episodes</th>\n",
       "      <th>Start airing</th>\n",
       "      <th>End airing</th>\n",
       "      <th>Broadcast time</th>\n",
       "      <th>Sources</th>\n",
       "      <th>Genres</th>\n",
       "      <th>Duration</th>\n",
       "      <th>Rating</th>\n",
       "      <th>ImDb_Score</th>\n",
       "      <th>Description</th>\n",
       "    </tr>\n",
       "  </thead>\n",
       "  <tbody>\n",
       "    <tr>\n",
       "      <th>0</th>\n",
       "      <td>Fullmetal Alchemist  Brotherhood</td>\n",
       "      <td>TV</td>\n",
       "      <td>64</td>\n",
       "      <td>2009-4-5</td>\n",
       "      <td>2010-7-4</td>\n",
       "      <td>Sundays at 17:00 (JST)</td>\n",
       "      <td>Manga</td>\n",
       "      <td>Action,Military,Adventure,Comedy,Drama,Magic,F...</td>\n",
       "      <td>24 min. per ep.</td>\n",
       "      <td>R</td>\n",
       "      <td>9.25</td>\n",
       "      <td>In order for something to be obtained  someth...</td>\n",
       "    </tr>\n",
       "    <tr>\n",
       "      <th>1</th>\n",
       "      <td>Kimi no Na wa</td>\n",
       "      <td>Movie</td>\n",
       "      <td>1</td>\n",
       "      <td>2016-8-26</td>\n",
       "      <td>-</td>\n",
       "      <td>-</td>\n",
       "      <td>Original</td>\n",
       "      <td>Supernatural,Drama,Romance,School</td>\n",
       "      <td>1 hr. 46 min.</td>\n",
       "      <td>PG-13</td>\n",
       "      <td>9.19</td>\n",
       "      <td>Mitsuha Miyamizu  a high school girl  yearns t...</td>\n",
       "    </tr>\n",
       "    <tr>\n",
       "      <th>2</th>\n",
       "      <td>Gintama</td>\n",
       "      <td>TV</td>\n",
       "      <td>51</td>\n",
       "      <td>2015-4-8</td>\n",
       "      <td>2016-3-30</td>\n",
       "      <td>Wednesdays at 18:00 (JST)</td>\n",
       "      <td>Manga</td>\n",
       "      <td>Action,Comedy,Historical,Parody,Samurai,Sci-Fi...</td>\n",
       "      <td>24 min. per ep.</td>\n",
       "      <td>R</td>\n",
       "      <td>9.16</td>\n",
       "      <td>Gintoki  Shinpachi  and Kagura return as the f...</td>\n",
       "    </tr>\n",
       "    <tr>\n",
       "      <th>3</th>\n",
       "      <td>Steins Gate</td>\n",
       "      <td>TV</td>\n",
       "      <td>23</td>\n",
       "      <td>2018-4-12</td>\n",
       "      <td>-</td>\n",
       "      <td>Thursdays at 01:35 (JST)</td>\n",
       "      <td>Visual novel</td>\n",
       "      <td>Sci-Fi,Thriller</td>\n",
       "      <td>23 min. per ep.</td>\n",
       "      <td>PG-13</td>\n",
       "      <td>9.16</td>\n",
       "      <td>The dark untold story of Steins Gate that lead...</td>\n",
       "    </tr>\n",
       "    <tr>\n",
       "      <th>4</th>\n",
       "      <td>Steins Gate</td>\n",
       "      <td>TV</td>\n",
       "      <td>24</td>\n",
       "      <td>2011-4-6</td>\n",
       "      <td>2011-9-14</td>\n",
       "      <td>Wednesdays at 02:05 (JST)</td>\n",
       "      <td>Visual novel</td>\n",
       "      <td>Sci-Fi,Thriller</td>\n",
       "      <td>24 min. per ep.</td>\n",
       "      <td>PG-13</td>\n",
       "      <td>9.14</td>\n",
       "      <td>The self-proclaimed mad scientist Rintarou Oka...</td>\n",
       "    </tr>\n",
       "  </tbody>\n",
       "</table>\n",
       "</div>"
      ],
      "text/plain": [
       "                              Title   Type Episodes Start airing End airing  \\\n",
       "0  Fullmetal Alchemist  Brotherhood     TV       64     2009-4-5   2010-7-4   \n",
       "1                    Kimi no Na wa   Movie        1    2016-8-26          -   \n",
       "2                         Gintama       TV       51     2015-4-8  2016-3-30   \n",
       "3                     Steins Gate       TV       23    2018-4-12          -   \n",
       "4                       Steins Gate     TV       24     2011-4-6  2011-9-14   \n",
       "\n",
       "              Broadcast time       Sources  \\\n",
       "0     Sundays at 17:00 (JST)         Manga   \n",
       "1                          -      Original   \n",
       "2  Wednesdays at 18:00 (JST)         Manga   \n",
       "3   Thursdays at 01:35 (JST)  Visual novel   \n",
       "4  Wednesdays at 02:05 (JST)  Visual novel   \n",
       "\n",
       "                                              Genres         Duration Rating  \\\n",
       "0  Action,Military,Adventure,Comedy,Drama,Magic,F...  24 min. per ep.      R   \n",
       "1                  Supernatural,Drama,Romance,School    1 hr. 46 min.  PG-13   \n",
       "2  Action,Comedy,Historical,Parody,Samurai,Sci-Fi...  24 min. per ep.      R   \n",
       "3                                    Sci-Fi,Thriller  23 min. per ep.  PG-13   \n",
       "4                                    Sci-Fi,Thriller  24 min. per ep.  PG-13   \n",
       "\n",
       "   ImDb_Score                                        Description  \n",
       "0        9.25   In order for something to be obtained  someth...  \n",
       "1        9.19  Mitsuha Miyamizu  a high school girl  yearns t...  \n",
       "2        9.16  Gintoki  Shinpachi  and Kagura return as the f...  \n",
       "3        9.16  The dark untold story of Steins Gate that lead...  \n",
       "4        9.14  The self-proclaimed mad scientist Rintarou Oka...  "
      ]
     },
     "execution_count": 16,
     "metadata": {},
     "output_type": "execute_result"
    }
   ],
   "source": [
    "df.head(5)"
   ]
  },
  {
   "cell_type": "code",
   "execution_count": 17,
   "id": "ac8bdcce",
   "metadata": {},
   "outputs": [
    {
     "data": {
      "text/plain": [
       "1563"
      ]
     },
     "execution_count": 17,
     "metadata": {},
     "output_type": "execute_result"
    }
   ],
   "source": [
    "df['Start airing'].notnull().count()"
   ]
  },
  {
   "cell_type": "code",
   "execution_count": 18,
   "id": "1f362f9d",
   "metadata": {},
   "outputs": [
    {
     "data": {
      "text/html": [
       "<div>\n",
       "<style scoped>\n",
       "    .dataframe tbody tr th:only-of-type {\n",
       "        vertical-align: middle;\n",
       "    }\n",
       "\n",
       "    .dataframe tbody tr th {\n",
       "        vertical-align: top;\n",
       "    }\n",
       "\n",
       "    .dataframe thead th {\n",
       "        text-align: right;\n",
       "    }\n",
       "</style>\n",
       "<table border=\"1\" class=\"dataframe\">\n",
       "  <thead>\n",
       "    <tr style=\"text-align: right;\">\n",
       "      <th></th>\n",
       "      <th>Title</th>\n",
       "      <th>Type</th>\n",
       "      <th>Episodes</th>\n",
       "      <th>Start airing</th>\n",
       "      <th>End airing</th>\n",
       "      <th>Broadcast time</th>\n",
       "      <th>Sources</th>\n",
       "      <th>Genres</th>\n",
       "      <th>Duration</th>\n",
       "      <th>Rating</th>\n",
       "      <th>ImDb_Score</th>\n",
       "      <th>Description</th>\n",
       "    </tr>\n",
       "  </thead>\n",
       "  <tbody>\n",
       "    <tr>\n",
       "      <th>0</th>\n",
       "      <td>Fullmetal Alchemist  Brotherhood</td>\n",
       "      <td>TV</td>\n",
       "      <td>64</td>\n",
       "      <td>2009-4-5</td>\n",
       "      <td>2010-7-4</td>\n",
       "      <td>Sundays at 17:00 (JST)</td>\n",
       "      <td>Manga</td>\n",
       "      <td>Action,Military,Adventure,Comedy,Drama,Magic,F...</td>\n",
       "      <td>24 min. per ep.</td>\n",
       "      <td>R</td>\n",
       "      <td>9.25</td>\n",
       "      <td>In order for something to be obtained  someth...</td>\n",
       "    </tr>\n",
       "    <tr>\n",
       "      <th>1</th>\n",
       "      <td>Kimi no Na wa</td>\n",
       "      <td>Movie</td>\n",
       "      <td>1</td>\n",
       "      <td>2016-8-26</td>\n",
       "      <td>-</td>\n",
       "      <td>-</td>\n",
       "      <td>Original</td>\n",
       "      <td>Supernatural,Drama,Romance,School</td>\n",
       "      <td>1 hr. 46 min.</td>\n",
       "      <td>PG-13</td>\n",
       "      <td>9.19</td>\n",
       "      <td>Mitsuha Miyamizu  a high school girl  yearns t...</td>\n",
       "    </tr>\n",
       "    <tr>\n",
       "      <th>2</th>\n",
       "      <td>Gintama</td>\n",
       "      <td>TV</td>\n",
       "      <td>51</td>\n",
       "      <td>2015-4-8</td>\n",
       "      <td>2016-3-30</td>\n",
       "      <td>Wednesdays at 18:00 (JST)</td>\n",
       "      <td>Manga</td>\n",
       "      <td>Action,Comedy,Historical,Parody,Samurai,Sci-Fi...</td>\n",
       "      <td>24 min. per ep.</td>\n",
       "      <td>R</td>\n",
       "      <td>9.16</td>\n",
       "      <td>Gintoki  Shinpachi  and Kagura return as the f...</td>\n",
       "    </tr>\n",
       "    <tr>\n",
       "      <th>3</th>\n",
       "      <td>Steins Gate</td>\n",
       "      <td>TV</td>\n",
       "      <td>23</td>\n",
       "      <td>2018-4-12</td>\n",
       "      <td>-</td>\n",
       "      <td>Thursdays at 01:35 (JST)</td>\n",
       "      <td>Visual novel</td>\n",
       "      <td>Sci-Fi,Thriller</td>\n",
       "      <td>23 min. per ep.</td>\n",
       "      <td>PG-13</td>\n",
       "      <td>9.16</td>\n",
       "      <td>The dark untold story of Steins Gate that lead...</td>\n",
       "    </tr>\n",
       "    <tr>\n",
       "      <th>4</th>\n",
       "      <td>Steins Gate</td>\n",
       "      <td>TV</td>\n",
       "      <td>24</td>\n",
       "      <td>2011-4-6</td>\n",
       "      <td>2011-9-14</td>\n",
       "      <td>Wednesdays at 02:05 (JST)</td>\n",
       "      <td>Visual novel</td>\n",
       "      <td>Sci-Fi,Thriller</td>\n",
       "      <td>24 min. per ep.</td>\n",
       "      <td>PG-13</td>\n",
       "      <td>9.14</td>\n",
       "      <td>The self-proclaimed mad scientist Rintarou Oka...</td>\n",
       "    </tr>\n",
       "    <tr>\n",
       "      <th>...</th>\n",
       "      <td>...</td>\n",
       "      <td>...</td>\n",
       "      <td>...</td>\n",
       "      <td>...</td>\n",
       "      <td>...</td>\n",
       "      <td>...</td>\n",
       "      <td>...</td>\n",
       "      <td>...</td>\n",
       "      <td>...</td>\n",
       "      <td>...</td>\n",
       "      <td>...</td>\n",
       "      <td>...</td>\n",
       "    </tr>\n",
       "    <tr>\n",
       "      <th>1558</th>\n",
       "      <td>Kuroshitsuji II</td>\n",
       "      <td>TV</td>\n",
       "      <td>12</td>\n",
       "      <td>2010-7-2</td>\n",
       "      <td>2010-9-17</td>\n",
       "      <td>-</td>\n",
       "      <td>Manga</td>\n",
       "      <td>Action,Comedy,Demons,Supernatural,Fantasy,Shounen</td>\n",
       "      <td>24 min. per ep.</td>\n",
       "      <td>R</td>\n",
       "      <td>7.48</td>\n",
       "      <td>The stage of Kuroshitsuji II opens on the life...</td>\n",
       "    </tr>\n",
       "    <tr>\n",
       "      <th>1559</th>\n",
       "      <td>Minami-ke Natsuyasumi</td>\n",
       "      <td>OVA</td>\n",
       "      <td>1</td>\n",
       "      <td>2013-8-6</td>\n",
       "      <td>-</td>\n",
       "      <td>-</td>\n",
       "      <td>Manga</td>\n",
       "      <td>Comedy,Slice of Life</td>\n",
       "      <td>28 min.</td>\n",
       "      <td>PG-13</td>\n",
       "      <td>7.48</td>\n",
       "      <td>Second Minami-ke OVA bundled with the 11th vol...</td>\n",
       "    </tr>\n",
       "    <tr>\n",
       "      <th>1560</th>\n",
       "      <td>Naruto  Shippuuden Movie 3 - Hi no Ishi wo Tsu...</td>\n",
       "      <td>Movie</td>\n",
       "      <td>1</td>\n",
       "      <td>2009-8-1</td>\n",
       "      <td>-</td>\n",
       "      <td>-</td>\n",
       "      <td>Manga</td>\n",
       "      <td>Action,Comedy,Martial Arts,Shounen,Super Power</td>\n",
       "      <td>1 hr. 35 min.</td>\n",
       "      <td>PG-13</td>\n",
       "      <td>7.48</td>\n",
       "      <td>Ninjas with bloodline limits begin disappearin...</td>\n",
       "    </tr>\n",
       "    <tr>\n",
       "      <th>1561</th>\n",
       "      <td>Persona 4 the Animation  The Factor of Hope</td>\n",
       "      <td>Movie</td>\n",
       "      <td>1</td>\n",
       "      <td>2012-6-9</td>\n",
       "      <td>-</td>\n",
       "      <td>-</td>\n",
       "      <td>-</td>\n",
       "      <td>Adventure,Mystery,Super Power,Supernatural,School</td>\n",
       "      <td>1 hr. 30 min.</td>\n",
       "      <td>PG-13</td>\n",
       "      <td>7.48</td>\n",
       "      <td>Recap of the entire 25-episode television anim...</td>\n",
       "    </tr>\n",
       "    <tr>\n",
       "      <th>1562</th>\n",
       "      <td>Re â Hamatora</td>\n",
       "      <td>TV</td>\n",
       "      <td>12</td>\n",
       "      <td>2014-7-8</td>\n",
       "      <td>2014-9-23</td>\n",
       "      <td>Tuesdays at 02:05 (JST)</td>\n",
       "      <td>Original</td>\n",
       "      <td>Mystery,Comedy,Super Power,Drama</td>\n",
       "      <td>24 min. per ep.</td>\n",
       "      <td>R</td>\n",
       "      <td>7.48</td>\n",
       "      <td>It has been three months since the incident at...</td>\n",
       "    </tr>\n",
       "  </tbody>\n",
       "</table>\n",
       "<p>1563 rows × 12 columns</p>\n",
       "</div>"
      ],
      "text/plain": [
       "                                                  Title   Type Episodes  \\\n",
       "0                      Fullmetal Alchemist  Brotherhood     TV       64   \n",
       "1                                        Kimi no Na wa   Movie        1   \n",
       "2                                             Gintama       TV       51   \n",
       "3                                         Steins Gate       TV       23   \n",
       "4                                           Steins Gate     TV       24   \n",
       "...                                                 ...    ...      ...   \n",
       "1558                                    Kuroshitsuji II     TV       12   \n",
       "1559                              Minami-ke Natsuyasumi    OVA        1   \n",
       "1560  Naruto  Shippuuden Movie 3 - Hi no Ishi wo Tsu...  Movie        1   \n",
       "1561        Persona 4 the Animation  The Factor of Hope  Movie        1   \n",
       "1562                                     Re â Hamatora     TV       12   \n",
       "\n",
       "     Start airing End airing             Broadcast time       Sources  \\\n",
       "0        2009-4-5   2010-7-4     Sundays at 17:00 (JST)         Manga   \n",
       "1       2016-8-26          -                          -      Original   \n",
       "2        2015-4-8  2016-3-30  Wednesdays at 18:00 (JST)         Manga   \n",
       "3       2018-4-12          -   Thursdays at 01:35 (JST)  Visual novel   \n",
       "4        2011-4-6  2011-9-14  Wednesdays at 02:05 (JST)  Visual novel   \n",
       "...           ...        ...                        ...           ...   \n",
       "1558     2010-7-2  2010-9-17                          -         Manga   \n",
       "1559     2013-8-6          -                          -         Manga   \n",
       "1560     2009-8-1          -                          -         Manga   \n",
       "1561     2012-6-9          -                          -             -   \n",
       "1562     2014-7-8  2014-9-23    Tuesdays at 02:05 (JST)      Original   \n",
       "\n",
       "                                                 Genres         Duration  \\\n",
       "0     Action,Military,Adventure,Comedy,Drama,Magic,F...  24 min. per ep.   \n",
       "1                     Supernatural,Drama,Romance,School    1 hr. 46 min.   \n",
       "2     Action,Comedy,Historical,Parody,Samurai,Sci-Fi...  24 min. per ep.   \n",
       "3                                       Sci-Fi,Thriller  23 min. per ep.   \n",
       "4                                       Sci-Fi,Thriller  24 min. per ep.   \n",
       "...                                                 ...              ...   \n",
       "1558  Action,Comedy,Demons,Supernatural,Fantasy,Shounen  24 min. per ep.   \n",
       "1559                               Comedy,Slice of Life          28 min.   \n",
       "1560     Action,Comedy,Martial Arts,Shounen,Super Power    1 hr. 35 min.   \n",
       "1561  Adventure,Mystery,Super Power,Supernatural,School    1 hr. 30 min.   \n",
       "1562                   Mystery,Comedy,Super Power,Drama  24 min. per ep.   \n",
       "\n",
       "     Rating  ImDb_Score                                        Description  \n",
       "0         R        9.25   In order for something to be obtained  someth...  \n",
       "1     PG-13        9.19  Mitsuha Miyamizu  a high school girl  yearns t...  \n",
       "2         R        9.16  Gintoki  Shinpachi  and Kagura return as the f...  \n",
       "3     PG-13        9.16  The dark untold story of Steins Gate that lead...  \n",
       "4     PG-13        9.14  The self-proclaimed mad scientist Rintarou Oka...  \n",
       "...     ...         ...                                                ...  \n",
       "1558      R        7.48  The stage of Kuroshitsuji II opens on the life...  \n",
       "1559  PG-13        7.48  Second Minami-ke OVA bundled with the 11th vol...  \n",
       "1560  PG-13        7.48  Ninjas with bloodline limits begin disappearin...  \n",
       "1561  PG-13        7.48  Recap of the entire 25-episode television anim...  \n",
       "1562      R        7.48  It has been three months since the incident at...  \n",
       "\n",
       "[1563 rows x 12 columns]"
      ]
     },
     "execution_count": 18,
     "metadata": {},
     "output_type": "execute_result"
    }
   ],
   "source": [
    "df.drop_duplicates()"
   ]
  },
  {
   "cell_type": "code",
   "execution_count": 19,
   "id": "b4b520e4",
   "metadata": {},
   "outputs": [
    {
     "name": "stdout",
     "output_type": "stream",
     "text": [
      "<class 'pandas.core.frame.DataFrame'>\n",
      "RangeIndex: 1563 entries, 0 to 1562\n",
      "Data columns (total 12 columns):\n",
      " #   Column          Non-Null Count  Dtype  \n",
      "---  ------          --------------  -----  \n",
      " 0   Title           1563 non-null   object \n",
      " 1   Type            1563 non-null   object \n",
      " 2   Episodes        1563 non-null   object \n",
      " 3   Start airing    1563 non-null   object \n",
      " 4   End airing      1563 non-null   object \n",
      " 5   Broadcast time  1563 non-null   object \n",
      " 6   Sources         1563 non-null   object \n",
      " 7   Genres          1563 non-null   object \n",
      " 8   Duration        1563 non-null   object \n",
      " 9   Rating          1563 non-null   object \n",
      " 10  ImDb_Score      1563 non-null   float64\n",
      " 11  Description     1563 non-null   object \n",
      "dtypes: float64(1), object(11)\n",
      "memory usage: 146.7+ KB\n"
     ]
    }
   ],
   "source": [
    "df.info()"
   ]
  },
  {
   "cell_type": "code",
   "execution_count": 20,
   "id": "3ab111f6",
   "metadata": {},
   "outputs": [
    {
     "data": {
      "text/plain": [
       "<Axes: >"
      ]
     },
     "execution_count": 20,
     "metadata": {},
     "output_type": "execute_result"
    },
    {
     "data": {
      "image/png": "[encoded data removed]",
      "text/plain": [
       "<Figure size 700x1000 with 1 Axes>"
      ]
     },
     "metadata": {},
     "output_type": "display_data"
    }
   ],
   "source": [
    "df['Title'].value_counts().head(10).plot(kind = 'bar', figsize = (7,10))"
   ]
  },
  {
   "cell_type": "code",
   "execution_count": 21,
   "id": "1c227045",
   "metadata": {},
   "outputs": [
    {
     "data": {
      "text/html": [
       "<div>\n",
       "<style scoped>\n",
       "    .dataframe tbody tr th:only-of-type {\n",
       "        vertical-align: middle;\n",
       "    }\n",
       "\n",
       "    .dataframe tbody tr th {\n",
       "        vertical-align: top;\n",
       "    }\n",
       "\n",
       "    .dataframe thead th {\n",
       "        text-align: right;\n",
       "    }\n",
       "</style>\n",
       "<table border=\"1\" class=\"dataframe\">\n",
       "  <thead>\n",
       "    <tr style=\"text-align: right;\">\n",
       "      <th></th>\n",
       "      <th>Type</th>\n",
       "      <th>ImDb_Score</th>\n",
       "    </tr>\n",
       "  </thead>\n",
       "  <tbody>\n",
       "    <tr>\n",
       "      <th>0</th>\n",
       "      <td>Movie</td>\n",
       "      <td>2630.14</td>\n",
       "    </tr>\n",
       "    <tr>\n",
       "      <th>1</th>\n",
       "      <td>Music</td>\n",
       "      <td>123.98</td>\n",
       "    </tr>\n",
       "    <tr>\n",
       "      <th>2</th>\n",
       "      <td>ONA</td>\n",
       "      <td>285.40</td>\n",
       "    </tr>\n",
       "    <tr>\n",
       "      <th>3</th>\n",
       "      <td>OVA</td>\n",
       "      <td>1492.59</td>\n",
       "    </tr>\n",
       "    <tr>\n",
       "      <th>4</th>\n",
       "      <td>Special</td>\n",
       "      <td>1297.43</td>\n",
       "    </tr>\n",
       "    <tr>\n",
       "      <th>5</th>\n",
       "      <td>TV</td>\n",
       "      <td>6526.20</td>\n",
       "    </tr>\n",
       "  </tbody>\n",
       "</table>\n",
       "</div>"
      ],
      "text/plain": [
       "      Type  ImDb_Score\n",
       "0    Movie     2630.14\n",
       "1    Music      123.98\n",
       "2      ONA      285.40\n",
       "3      OVA     1492.59\n",
       "4  Special     1297.43\n",
       "5       TV     6526.20"
      ]
     },
     "execution_count": 21,
     "metadata": {},
     "output_type": "execute_result"
    }
   ],
   "source": [
    "df.groupby(['Type'], as_index = False)['ImDb_Score'].sum().sort_values(by = 'Type', ascending = True)"
   ]
  },
  {
   "cell_type": "code",
   "execution_count": 22,
   "id": "d24a49e2",
   "metadata": {},
   "outputs": [],
   "source": [
    "result = df.groupby(['Type', 'Rating']).size().reset_index(name='Rat')\n",
    "result = result.sort_values(by='Type', ascending=True)"
   ]
  },
  {
   "cell_type": "code",
   "execution_count": 23,
   "id": "e414e339",
   "metadata": {},
   "outputs": [
    {
     "data": {
      "text/html": [
       "<div>\n",
       "<style scoped>\n",
       "    .dataframe tbody tr th:only-of-type {\n",
       "        vertical-align: middle;\n",
       "    }\n",
       "\n",
       "    .dataframe tbody tr th {\n",
       "        vertical-align: top;\n",
       "    }\n",
       "\n",
       "    .dataframe thead th {\n",
       "        text-align: right;\n",
       "    }\n",
       "</style>\n",
       "<table border=\"1\" class=\"dataframe\">\n",
       "  <thead>\n",
       "    <tr style=\"text-align: right;\">\n",
       "      <th></th>\n",
       "      <th>Type</th>\n",
       "      <th>Rating</th>\n",
       "      <th>Rat</th>\n",
       "    </tr>\n",
       "  </thead>\n",
       "  <tbody>\n",
       "    <tr>\n",
       "      <th>0</th>\n",
       "      <td>Movie</td>\n",
       "      <td>G</td>\n",
       "      <td>48</td>\n",
       "    </tr>\n",
       "    <tr>\n",
       "      <th>1</th>\n",
       "      <td>Movie</td>\n",
       "      <td>None</td>\n",
       "      <td>6</td>\n",
       "    </tr>\n",
       "    <tr>\n",
       "      <th>2</th>\n",
       "      <td>Movie</td>\n",
       "      <td>PG</td>\n",
       "      <td>24</td>\n",
       "    </tr>\n",
       "    <tr>\n",
       "      <th>3</th>\n",
       "      <td>Movie</td>\n",
       "      <td>PG-13</td>\n",
       "      <td>192</td>\n",
       "    </tr>\n",
       "    <tr>\n",
       "      <th>4</th>\n",
       "      <td>Movie</td>\n",
       "      <td>R</td>\n",
       "      <td>63</td>\n",
       "    </tr>\n",
       "    <tr>\n",
       "      <th>5</th>\n",
       "      <td>Music</td>\n",
       "      <td>G</td>\n",
       "      <td>10</td>\n",
       "    </tr>\n",
       "    <tr>\n",
       "      <th>6</th>\n",
       "      <td>Music</td>\n",
       "      <td>PG-13</td>\n",
       "      <td>6</td>\n",
       "    </tr>\n",
       "    <tr>\n",
       "      <th>7</th>\n",
       "      <td>ONA</td>\n",
       "      <td>G</td>\n",
       "      <td>1</td>\n",
       "    </tr>\n",
       "    <tr>\n",
       "      <th>8</th>\n",
       "      <td>ONA</td>\n",
       "      <td>None</td>\n",
       "      <td>1</td>\n",
       "    </tr>\n",
       "    <tr>\n",
       "      <th>9</th>\n",
       "      <td>ONA</td>\n",
       "      <td>PG</td>\n",
       "      <td>2</td>\n",
       "    </tr>\n",
       "    <tr>\n",
       "      <th>10</th>\n",
       "      <td>ONA</td>\n",
       "      <td>PG-13</td>\n",
       "      <td>26</td>\n",
       "    </tr>\n",
       "    <tr>\n",
       "      <th>11</th>\n",
       "      <td>ONA</td>\n",
       "      <td>R</td>\n",
       "      <td>7</td>\n",
       "    </tr>\n",
       "    <tr>\n",
       "      <th>15</th>\n",
       "      <td>OVA</td>\n",
       "      <td>R</td>\n",
       "      <td>38</td>\n",
       "    </tr>\n",
       "    <tr>\n",
       "      <th>14</th>\n",
       "      <td>OVA</td>\n",
       "      <td>PG-13</td>\n",
       "      <td>144</td>\n",
       "    </tr>\n",
       "    <tr>\n",
       "      <th>12</th>\n",
       "      <td>OVA</td>\n",
       "      <td>G</td>\n",
       "      <td>6</td>\n",
       "    </tr>\n",
       "    <tr>\n",
       "      <th>13</th>\n",
       "      <td>OVA</td>\n",
       "      <td>PG</td>\n",
       "      <td>2</td>\n",
       "    </tr>\n",
       "    <tr>\n",
       "      <th>16</th>\n",
       "      <td>Special</td>\n",
       "      <td>G</td>\n",
       "      <td>14</td>\n",
       "    </tr>\n",
       "    <tr>\n",
       "      <th>17</th>\n",
       "      <td>Special</td>\n",
       "      <td>PG</td>\n",
       "      <td>6</td>\n",
       "    </tr>\n",
       "    <tr>\n",
       "      <th>18</th>\n",
       "      <td>Special</td>\n",
       "      <td>PG-13</td>\n",
       "      <td>124</td>\n",
       "    </tr>\n",
       "    <tr>\n",
       "      <th>19</th>\n",
       "      <td>Special</td>\n",
       "      <td>R</td>\n",
       "      <td>22</td>\n",
       "    </tr>\n",
       "    <tr>\n",
       "      <th>23</th>\n",
       "      <td>TV</td>\n",
       "      <td>PG-13</td>\n",
       "      <td>548</td>\n",
       "    </tr>\n",
       "    <tr>\n",
       "      <th>20</th>\n",
       "      <td>TV</td>\n",
       "      <td>G</td>\n",
       "      <td>61</td>\n",
       "    </tr>\n",
       "    <tr>\n",
       "      <th>21</th>\n",
       "      <td>TV</td>\n",
       "      <td>None</td>\n",
       "      <td>2</td>\n",
       "    </tr>\n",
       "    <tr>\n",
       "      <th>22</th>\n",
       "      <td>TV</td>\n",
       "      <td>PG</td>\n",
       "      <td>26</td>\n",
       "    </tr>\n",
       "    <tr>\n",
       "      <th>24</th>\n",
       "      <td>TV</td>\n",
       "      <td>R</td>\n",
       "      <td>184</td>\n",
       "    </tr>\n",
       "  </tbody>\n",
       "</table>\n",
       "</div>"
      ],
      "text/plain": [
       "       Type Rating  Rat\n",
       "0     Movie      G   48\n",
       "1     Movie   None    6\n",
       "2     Movie     PG   24\n",
       "3     Movie  PG-13  192\n",
       "4     Movie      R   63\n",
       "5     Music      G   10\n",
       "6     Music  PG-13    6\n",
       "7       ONA      G    1\n",
       "8       ONA   None    1\n",
       "9       ONA     PG    2\n",
       "10      ONA  PG-13   26\n",
       "11      ONA      R    7\n",
       "15      OVA      R   38\n",
       "14      OVA  PG-13  144\n",
       "12      OVA      G    6\n",
       "13      OVA     PG    2\n",
       "16  Special      G   14\n",
       "17  Special     PG    6\n",
       "18  Special  PG-13  124\n",
       "19  Special      R   22\n",
       "23       TV  PG-13  548\n",
       "20       TV      G   61\n",
       "21       TV   None    2\n",
       "22       TV     PG   26\n",
       "24       TV      R  184"
      ]
     },
     "execution_count": 23,
     "metadata": {},
     "output_type": "execute_result"
    }
   ],
   "source": [
    "result"
   ]
  },
  {
   "cell_type": "code",
   "execution_count": 24,
   "id": "fe82df7f",
   "metadata": {},
   "outputs": [
    {
     "data": {
      "text/html": [
       "<div>\n",
       "<style scoped>\n",
       "    .dataframe tbody tr th:only-of-type {\n",
       "        vertical-align: middle;\n",
       "    }\n",
       "\n",
       "    .dataframe tbody tr th {\n",
       "        vertical-align: top;\n",
       "    }\n",
       "\n",
       "    .dataframe thead th {\n",
       "        text-align: right;\n",
       "    }\n",
       "</style>\n",
       "<table border=\"1\" class=\"dataframe\">\n",
       "  <thead>\n",
       "    <tr style=\"text-align: right;\">\n",
       "      <th></th>\n",
       "      <th>Title</th>\n",
       "      <th>Type</th>\n",
       "      <th>Episodes</th>\n",
       "      <th>Start airing</th>\n",
       "      <th>End airing</th>\n",
       "      <th>Broadcast time</th>\n",
       "      <th>Sources</th>\n",
       "      <th>Genres</th>\n",
       "      <th>Duration</th>\n",
       "      <th>Rating</th>\n",
       "      <th>ImDb_Score</th>\n",
       "      <th>Description</th>\n",
       "    </tr>\n",
       "  </thead>\n",
       "  <tbody>\n",
       "    <tr>\n",
       "      <th>0</th>\n",
       "      <td>Fullmetal Alchemist  Brotherhood</td>\n",
       "      <td>TV</td>\n",
       "      <td>64</td>\n",
       "      <td>2009-4-5</td>\n",
       "      <td>2010-7-4</td>\n",
       "      <td>Sundays at 17:00 (JST)</td>\n",
       "      <td>Manga</td>\n",
       "      <td>Action,Military,Adventure,Comedy,Drama,Magic,F...</td>\n",
       "      <td>24 min. per ep.</td>\n",
       "      <td>R</td>\n",
       "      <td>9.25</td>\n",
       "      <td>In order for something to be obtained  someth...</td>\n",
       "    </tr>\n",
       "    <tr>\n",
       "      <th>1</th>\n",
       "      <td>Kimi no Na wa</td>\n",
       "      <td>Movie</td>\n",
       "      <td>1</td>\n",
       "      <td>2016-8-26</td>\n",
       "      <td>-</td>\n",
       "      <td>-</td>\n",
       "      <td>Original</td>\n",
       "      <td>Supernatural,Drama,Romance,School</td>\n",
       "      <td>1 hr. 46 min.</td>\n",
       "      <td>PG-13</td>\n",
       "      <td>9.19</td>\n",
       "      <td>Mitsuha Miyamizu  a high school girl  yearns t...</td>\n",
       "    </tr>\n",
       "    <tr>\n",
       "      <th>2</th>\n",
       "      <td>Gintama</td>\n",
       "      <td>TV</td>\n",
       "      <td>51</td>\n",
       "      <td>2015-4-8</td>\n",
       "      <td>2016-3-30</td>\n",
       "      <td>Wednesdays at 18:00 (JST)</td>\n",
       "      <td>Manga</td>\n",
       "      <td>Action,Comedy,Historical,Parody,Samurai,Sci-Fi...</td>\n",
       "      <td>24 min. per ep.</td>\n",
       "      <td>R</td>\n",
       "      <td>9.16</td>\n",
       "      <td>Gintoki  Shinpachi  and Kagura return as the f...</td>\n",
       "    </tr>\n",
       "    <tr>\n",
       "      <th>3</th>\n",
       "      <td>Steins Gate</td>\n",
       "      <td>TV</td>\n",
       "      <td>23</td>\n",
       "      <td>2018-4-12</td>\n",
       "      <td>-</td>\n",
       "      <td>Thursdays at 01:35 (JST)</td>\n",
       "      <td>Visual novel</td>\n",
       "      <td>Sci-Fi,Thriller</td>\n",
       "      <td>23 min. per ep.</td>\n",
       "      <td>PG-13</td>\n",
       "      <td>9.16</td>\n",
       "      <td>The dark untold story of Steins Gate that lead...</td>\n",
       "    </tr>\n",
       "    <tr>\n",
       "      <th>4</th>\n",
       "      <td>Steins Gate</td>\n",
       "      <td>TV</td>\n",
       "      <td>24</td>\n",
       "      <td>2011-4-6</td>\n",
       "      <td>2011-9-14</td>\n",
       "      <td>Wednesdays at 02:05 (JST)</td>\n",
       "      <td>Visual novel</td>\n",
       "      <td>Sci-Fi,Thriller</td>\n",
       "      <td>24 min. per ep.</td>\n",
       "      <td>PG-13</td>\n",
       "      <td>9.14</td>\n",
       "      <td>The self-proclaimed mad scientist Rintarou Oka...</td>\n",
       "    </tr>\n",
       "  </tbody>\n",
       "</table>\n",
       "</div>"
      ],
      "text/plain": [
       "                              Title   Type Episodes Start airing End airing  \\\n",
       "0  Fullmetal Alchemist  Brotherhood     TV       64     2009-4-5   2010-7-4   \n",
       "1                    Kimi no Na wa   Movie        1    2016-8-26          -   \n",
       "2                         Gintama       TV       51     2015-4-8  2016-3-30   \n",
       "3                     Steins Gate       TV       23    2018-4-12          -   \n",
       "4                       Steins Gate     TV       24     2011-4-6  2011-9-14   \n",
       "\n",
       "              Broadcast time       Sources  \\\n",
       "0     Sundays at 17:00 (JST)         Manga   \n",
       "1                          -      Original   \n",
       "2  Wednesdays at 18:00 (JST)         Manga   \n",
       "3   Thursdays at 01:35 (JST)  Visual novel   \n",
       "4  Wednesdays at 02:05 (JST)  Visual novel   \n",
       "\n",
       "                                              Genres         Duration Rating  \\\n",
       "0  Action,Military,Adventure,Comedy,Drama,Magic,F...  24 min. per ep.      R   \n",
       "1                  Supernatural,Drama,Romance,School    1 hr. 46 min.  PG-13   \n",
       "2  Action,Comedy,Historical,Parody,Samurai,Sci-Fi...  24 min. per ep.      R   \n",
       "3                                    Sci-Fi,Thriller  23 min. per ep.  PG-13   \n",
       "4                                    Sci-Fi,Thriller  24 min. per ep.  PG-13   \n",
       "\n",
       "   ImDb_Score                                        Description  \n",
       "0        9.25   In order for something to be obtained  someth...  \n",
       "1        9.19  Mitsuha Miyamizu  a high school girl  yearns t...  \n",
       "2        9.16  Gintoki  Shinpachi  and Kagura return as the f...  \n",
       "3        9.16  The dark untold story of Steins Gate that lead...  \n",
       "4        9.14  The self-proclaimed mad scientist Rintarou Oka...  "
      ]
     },
     "execution_count": 24,
     "metadata": {},
     "output_type": "execute_result"
    }
   ],
   "source": [
    "df.head(5)"
   ]
  },
  {
   "cell_type": "code",
   "execution_count": 25,
   "id": "59f5909f",
   "metadata": {},
   "outputs": [
    {
     "data": {
      "text/plain": [
       "array(['64', '1', '51', '23', '24', '110', '148', '22', '13', '7', '12',\n",
       "       '201', '10', '25', '26', '75', '4', '11', '43', '27', '37', '39',\n",
       "       '47', '99', '120', '101', '-', '2', '50', '112', '62', '33', '94',\n",
       "       '3', '8', '14', '40', '15', '77', '291', '203', '79', '6', '70',\n",
       "       '38', '500', '103', '153', '102', '45', '21', '63', '175', '52',\n",
       "       '5', '28', '145', '36', '78', '60', '69', '178', '35', '34', '109',\n",
       "       '113', '114', '9', '49', '61', '97', '366', '167', '54', '358',\n",
       "       '104', '20', '220', '48', '42', '46', '100', '142', '373', '131',\n",
       "       '195', '1787', '19', '17', '147', '73', '127', '74', '16', '150',\n",
       "       '140', '76', '53', '98', '29', '115', '18', '124', '224', '44',\n",
       "       '154', '58'], dtype=object)"
      ]
     },
     "execution_count": 25,
     "metadata": {},
     "output_type": "execute_result"
    }
   ],
   "source": [
    "df['Episodes'].unique()"
   ]
  },
  {
   "cell_type": "code",
   "execution_count": 26,
   "id": "981cfde4",
   "metadata": {},
   "outputs": [
    {
     "data": {
      "text/plain": [
       "1      525\n",
       "12     182\n",
       "13     137\n",
       "26     106\n",
       "24      68\n",
       "      ... \n",
       "167      1\n",
       "54       1\n",
       "358      1\n",
       "33       1\n",
       "58       1\n",
       "Name: Episodes, Length: 107, dtype: int64"
      ]
     },
     "execution_count": 26,
     "metadata": {},
     "output_type": "execute_result"
    }
   ],
   "source": [
    "df['Episodes'].value_counts()"
   ]
  },
  {
   "cell_type": "code",
   "execution_count": 27,
   "id": "76033513",
   "metadata": {},
   "outputs": [
    {
     "data": {
      "text/plain": [
       "dtype('O')"
      ]
     },
     "execution_count": 27,
     "metadata": {},
     "output_type": "execute_result"
    }
   ],
   "source": [
    "df['Episodes'].dtype"
   ]
  },
  {
   "cell_type": "code",
   "execution_count": 28,
   "id": "be202ba1",
   "metadata": {},
   "outputs": [],
   "source": [
    "df['Episodes'].replace( {'-' : '525'}, inplace = True)"
   ]
  },
  {
   "cell_type": "code",
   "execution_count": 29,
   "id": "38fea725",
   "metadata": {},
   "outputs": [
    {
     "data": {
      "text/plain": [
       "array(['64', '1', '51', '23', '24', '110', '148', '22', '13', '7', '12',\n",
       "       '201', '10', '25', '26', '75', '4', '11', '43', '27', '37', '39',\n",
       "       '47', '99', '120', '101', '525', '2', '50', '112', '62', '33',\n",
       "       '94', '3', '8', '14', '40', '15', '77', '291', '203', '79', '6',\n",
       "       '70', '38', '500', '103', '153', '102', '45', '21', '63', '175',\n",
       "       '52', '5', '28', '145', '36', '78', '60', '69', '178', '35', '34',\n",
       "       '109', '113', '114', '9', '49', '61', '97', '366', '167', '54',\n",
       "       '358', '104', '20', '220', '48', '42', '46', '100', '142', '373',\n",
       "       '131', '195', '1787', '19', '17', '147', '73', '127', '74', '16',\n",
       "       '150', '140', '76', '53', '98', '29', '115', '18', '124', '224',\n",
       "       '44', '154', '58'], dtype=object)"
      ]
     },
     "execution_count": 29,
     "metadata": {},
     "output_type": "execute_result"
    }
   ],
   "source": [
    "df['Episodes'].unique()"
   ]
  },
  {
   "cell_type": "code",
   "execution_count": 30,
   "id": "c2797451",
   "metadata": {},
   "outputs": [],
   "source": [
    " df['Episodes'] = df['Episodes'].astype(int)"
   ]
  },
  {
   "cell_type": "code",
   "execution_count": 31,
   "id": "655b3b68",
   "metadata": {},
   "outputs": [
    {
     "name": "stdout",
     "output_type": "stream",
     "text": [
      "<class 'pandas.core.frame.DataFrame'>\n",
      "RangeIndex: 1563 entries, 0 to 1562\n",
      "Data columns (total 12 columns):\n",
      " #   Column          Non-Null Count  Dtype  \n",
      "---  ------          --------------  -----  \n",
      " 0   Title           1563 non-null   object \n",
      " 1   Type            1563 non-null   object \n",
      " 2   Episodes        1563 non-null   int32  \n",
      " 3   Start airing    1563 non-null   object \n",
      " 4   End airing      1563 non-null   object \n",
      " 5   Broadcast time  1563 non-null   object \n",
      " 6   Sources         1563 non-null   object \n",
      " 7   Genres          1563 non-null   object \n",
      " 8   Duration        1563 non-null   object \n",
      " 9   Rating          1563 non-null   object \n",
      " 10  ImDb_Score      1563 non-null   float64\n",
      " 11  Description     1563 non-null   object \n",
      "dtypes: float64(1), int32(1), object(10)\n",
      "memory usage: 140.6+ KB\n"
     ]
    }
   ],
   "source": [
    "df.info()"
   ]
  },
  {
   "cell_type": "markdown",
   "id": "fc865ad2",
   "metadata": {},
   "source": [
    "# Total number of Episodes Telecasted per Anime Title"
   ]
  },
  {
   "cell_type": "code",
   "execution_count": 32,
   "id": "bdf9f8a9",
   "metadata": {},
   "outputs": [],
   "source": [
    " Episodes_Telecasted = df.groupby(['Title'], as_index = False)['Episodes'].value_counts().sort_values(by = 'Episodes', ascending = False ).head(10)"
   ]
  },
  {
   "cell_type": "code",
   "execution_count": 33,
   "id": "f8aa5426",
   "metadata": {},
   "outputs": [
    {
     "data": {
      "text/plain": [
       "array(['Action,Military,Adventure,Comedy,Drama,Magic,Fantasy,Shounen',\n",
       "       'Supernatural,Drama,Romance,School',\n",
       "       'Action,Comedy,Historical,Parody,Samurai,Sci-Fi,Shounen', ...,\n",
       "       'Action,Comedy,Demons,Supernatural,Fantasy,Shounen',\n",
       "       'Adventure,Mystery,Super Power,Supernatural,School',\n",
       "       'Mystery,Comedy,Super Power,Drama'], dtype=object)"
      ]
     },
     "execution_count": 33,
     "metadata": {},
     "output_type": "execute_result"
    }
   ],
   "source": [
    "df['Genres'].unique()"
   ]
  },
  {
   "cell_type": "code",
   "execution_count": 34,
   "id": "c2dc37fb",
   "metadata": {},
   "outputs": [
    {
     "data": {
      "text/plain": [
       "1004"
      ]
     },
     "execution_count": 34,
     "metadata": {},
     "output_type": "execute_result"
    }
   ],
   "source": [
    "df['Genres'].nunique()"
   ]
  },
  {
   "cell_type": "code",
   "execution_count": 35,
   "id": "9d2ef06a",
   "metadata": {},
   "outputs": [
    {
     "data": {
      "image/png": "[encoded data removed]",
      "text/plain": [
       "<Figure size 640x480 with 1 Axes>"
      ]
     },
     "metadata": {},
     "output_type": "display_data"
    }
   ],
   "source": [
    "sns.barplot(x = 'Title', y = 'Episodes', data = Episodes_Telecasted )\n",
    "sns.set(rc={'figure.figsize':(22,11)})"
   ]
  },
  {
   "cell_type": "code",
   "execution_count": 36,
   "id": "18561264",
   "metadata": {},
   "outputs": [
    {
     "data": {
      "text/html": [
       "<div>\n",
       "<style scoped>\n",
       "    .dataframe tbody tr th:only-of-type {\n",
       "        vertical-align: middle;\n",
       "    }\n",
       "\n",
       "    .dataframe tbody tr th {\n",
       "        vertical-align: top;\n",
       "    }\n",
       "\n",
       "    .dataframe thead th {\n",
       "        text-align: right;\n",
       "    }\n",
       "</style>\n",
       "<table border=\"1\" class=\"dataframe\">\n",
       "  <thead>\n",
       "    <tr style=\"text-align: right;\">\n",
       "      <th></th>\n",
       "      <th>Title</th>\n",
       "      <th>Episodes</th>\n",
       "      <th>count</th>\n",
       "    </tr>\n",
       "  </thead>\n",
       "  <tbody>\n",
       "    <tr>\n",
       "      <th>294</th>\n",
       "      <td>Doraemon  1979</td>\n",
       "      <td>1787</td>\n",
       "      <td>1</td>\n",
       "    </tr>\n",
       "    <tr>\n",
       "      <th>920</th>\n",
       "      <td>Mi Yu Xing Zhe</td>\n",
       "      <td>525</td>\n",
       "      <td>1</td>\n",
       "    </tr>\n",
       "    <tr>\n",
       "      <th>600</th>\n",
       "      <td>Huyao Xiao Hongniang  Nan Guo</td>\n",
       "      <td>525</td>\n",
       "      <td>1</td>\n",
       "    </tr>\n",
       "    <tr>\n",
       "      <th>241</th>\n",
       "      <td>Detective Conan</td>\n",
       "      <td>525</td>\n",
       "      <td>1</td>\n",
       "    </tr>\n",
       "    <tr>\n",
       "      <th>295</th>\n",
       "      <td>Doraemon  2  5</td>\n",
       "      <td>525</td>\n",
       "      <td>1</td>\n",
       "    </tr>\n",
       "    <tr>\n",
       "      <th>898</th>\n",
       "      <td>Major 2nd  TV</td>\n",
       "      <td>525</td>\n",
       "      <td>1</td>\n",
       "    </tr>\n",
       "    <tr>\n",
       "      <th>619</th>\n",
       "      <td>Inazuma Eleven  Ares no Tenbin</td>\n",
       "      <td>525</td>\n",
       "      <td>1</td>\n",
       "    </tr>\n",
       "    <tr>\n",
       "      <th>330</th>\n",
       "      <td>Emiya-san Chi no Kyou no Gohan</td>\n",
       "      <td>525</td>\n",
       "      <td>1</td>\n",
       "    </tr>\n",
       "    <tr>\n",
       "      <th>1461</th>\n",
       "      <td>Uchuu Senkan Yamato 22 2  Ai no Senshi-tachi</td>\n",
       "      <td>525</td>\n",
       "      <td>1</td>\n",
       "    </tr>\n",
       "    <tr>\n",
       "      <th>1054</th>\n",
       "      <td>One Piece</td>\n",
       "      <td>525</td>\n",
       "      <td>1</td>\n",
       "    </tr>\n",
       "  </tbody>\n",
       "</table>\n",
       "</div>"
      ],
      "text/plain": [
       "                                             Title  Episodes  count\n",
       "294                                Doraemon  1979       1787      1\n",
       "920                                 Mi Yu Xing Zhe       525      1\n",
       "600                  Huyao Xiao Hongniang  Nan Guo       525      1\n",
       "241                                Detective Conan       525      1\n",
       "295                                Doraemon  2  5        525      1\n",
       "898                                 Major 2nd  TV        525      1\n",
       "619                 Inazuma Eleven  Ares no Tenbin       525      1\n",
       "330                 Emiya-san Chi no Kyou no Gohan       525      1\n",
       "1461  Uchuu Senkan Yamato 22 2  Ai no Senshi-tachi       525      1\n",
       "1054                                     One Piece       525      1"
      ]
     },
     "execution_count": 36,
     "metadata": {},
     "output_type": "execute_result"
    }
   ],
   "source": [
    "Episodes_Telecasted"
   ]
  },
  {
   "cell_type": "code",
   "execution_count": 37,
   "id": "cf6f833f",
   "metadata": {},
   "outputs": [
    {
     "name": "stdout",
     "output_type": "stream",
     "text": [
      "<class 'pandas.core.frame.DataFrame'>\n",
      "RangeIndex: 1563 entries, 0 to 1562\n",
      "Data columns (total 12 columns):\n",
      " #   Column          Non-Null Count  Dtype  \n",
      "---  ------          --------------  -----  \n",
      " 0   Title           1563 non-null   object \n",
      " 1   Type            1563 non-null   object \n",
      " 2   Episodes        1563 non-null   int32  \n",
      " 3   Start airing    1563 non-null   object \n",
      " 4   End airing      1563 non-null   object \n",
      " 5   Broadcast time  1563 non-null   object \n",
      " 6   Sources         1563 non-null   object \n",
      " 7   Genres          1563 non-null   object \n",
      " 8   Duration        1563 non-null   object \n",
      " 9   Rating          1563 non-null   object \n",
      " 10  ImDb_Score      1563 non-null   float64\n",
      " 11  Description     1563 non-null   object \n",
      "dtypes: float64(1), int32(1), object(10)\n",
      "memory usage: 140.6+ KB\n"
     ]
    }
   ],
   "source": [
    "df.info()"
   ]
  },
  {
   "cell_type": "code",
   "execution_count": 38,
   "id": "e07a73e5",
   "metadata": {},
   "outputs": [
    {
     "data": {
      "text/plain": [
       "array(['TV', 'Movie', 'OVA', 'Special', 'Music', 'ONA'], dtype=object)"
      ]
     },
     "execution_count": 38,
     "metadata": {},
     "output_type": "execute_result"
    }
   ],
   "source": [
    "df['Type'].unique()"
   ]
  },
  {
   "cell_type": "code",
   "execution_count": 39,
   "id": "12b8d352",
   "metadata": {
    "scrolled": true
   },
   "outputs": [
    {
     "data": {
      "text/plain": [
       "TV         821\n",
       "Movie      333\n",
       "OVA        190\n",
       "Special    166\n",
       "ONA         37\n",
       "Music       16\n",
       "Name: Type, dtype: int64"
      ]
     },
     "execution_count": 39,
     "metadata": {},
     "output_type": "execute_result"
    }
   ],
   "source": [
    "df['Type'].value_counts()"
   ]
  },
  {
   "cell_type": "code",
   "execution_count": 40,
   "id": "48828495",
   "metadata": {},
   "outputs": [
    {
     "data": {
      "text/plain": [
       "1560"
      ]
     },
     "execution_count": 40,
     "metadata": {},
     "output_type": "execute_result"
    }
   ],
   "source": [
    "df['Title'].nunique()"
   ]
  },
  {
   "cell_type": "markdown",
   "id": "d94b12a3",
   "metadata": {},
   "source": [
    "# finding out differnt type Geners included in this dataset"
   ]
  },
  {
   "cell_type": "code",
   "execution_count": 41,
   "id": "c3b35997",
   "metadata": {},
   "outputs": [],
   "source": [
    "geners = df.groupby(['Type'], as_index = False)['Title'].count().sort_values(by = 'Title', ascending = False).head(10)"
   ]
  },
  {
   "cell_type": "code",
   "execution_count": 42,
   "id": "3e64ed3a",
   "metadata": {},
   "outputs": [
    {
     "data": {
      "image/png": "[encoded data removed]",
      "text/plain": [
       "<Figure size 2200x1100 with 1 Axes>"
      ]
     },
     "metadata": {},
     "output_type": "display_data"
    }
   ],
   "source": [
    "data = sns.barplot(x = 'Type', y = 'Title', data = geners)\n",
    "\n",
    "for i in data.containers:\n",
    "    data.bar_label(i)"
   ]
  },
  {
   "cell_type": "code",
   "execution_count": 43,
   "id": "5afc08ad",
   "metadata": {},
   "outputs": [
    {
     "name": "stdout",
     "output_type": "stream",
     "text": [
      "<class 'pandas.core.frame.DataFrame'>\n",
      "RangeIndex: 1563 entries, 0 to 1562\n",
      "Data columns (total 12 columns):\n",
      " #   Column          Non-Null Count  Dtype  \n",
      "---  ------          --------------  -----  \n",
      " 0   Title           1563 non-null   object \n",
      " 1   Type            1563 non-null   object \n",
      " 2   Episodes        1563 non-null   int32  \n",
      " 3   Start airing    1563 non-null   object \n",
      " 4   End airing      1563 non-null   object \n",
      " 5   Broadcast time  1563 non-null   object \n",
      " 6   Sources         1563 non-null   object \n",
      " 7   Genres          1563 non-null   object \n",
      " 8   Duration        1563 non-null   object \n",
      " 9   Rating          1563 non-null   object \n",
      " 10  ImDb_Score      1563 non-null   float64\n",
      " 11  Description     1563 non-null   object \n",
      "dtypes: float64(1), int32(1), object(10)\n",
      "memory usage: 140.6+ KB\n"
     ]
    }
   ],
   "source": [
    "df.info()"
   ]
  },
  {
   "cell_type": "code",
   "execution_count": 44,
   "id": "6ecd9fda",
   "metadata": {},
   "outputs": [
    {
     "data": {
      "text/plain": [
       "array(['2009-4-5', '2016-8-26', '2015-4-8', ..., '1988-10-2', '2013-8-6',\n",
       "       '2012-6-9'], dtype=object)"
      ]
     },
     "execution_count": 44,
     "metadata": {},
     "output_type": "execute_result"
    }
   ],
   "source": [
    "df['Start airing'].unique()"
   ]
  },
  {
   "cell_type": "code",
   "execution_count": 45,
   "id": "4f4e2f87",
   "metadata": {},
   "outputs": [
    {
     "data": {
      "text/html": [
       "<div>\n",
       "<style scoped>\n",
       "    .dataframe tbody tr th:only-of-type {\n",
       "        vertical-align: middle;\n",
       "    }\n",
       "\n",
       "    .dataframe tbody tr th {\n",
       "        vertical-align: top;\n",
       "    }\n",
       "\n",
       "    .dataframe thead th {\n",
       "        text-align: right;\n",
       "    }\n",
       "</style>\n",
       "<table border=\"1\" class=\"dataframe\">\n",
       "  <thead>\n",
       "    <tr style=\"text-align: right;\">\n",
       "      <th></th>\n",
       "      <th>Title</th>\n",
       "      <th>Type</th>\n",
       "      <th>Episodes</th>\n",
       "      <th>Start airing</th>\n",
       "      <th>End airing</th>\n",
       "      <th>Broadcast time</th>\n",
       "      <th>Sources</th>\n",
       "      <th>Genres</th>\n",
       "      <th>Duration</th>\n",
       "      <th>Rating</th>\n",
       "      <th>ImDb_Score</th>\n",
       "      <th>Description</th>\n",
       "    </tr>\n",
       "  </thead>\n",
       "  <tbody>\n",
       "    <tr>\n",
       "      <th>0</th>\n",
       "      <td>Fullmetal Alchemist  Brotherhood</td>\n",
       "      <td>TV</td>\n",
       "      <td>64</td>\n",
       "      <td>2009-4-5</td>\n",
       "      <td>2010-7-4</td>\n",
       "      <td>Sundays at 17:00 (JST)</td>\n",
       "      <td>Manga</td>\n",
       "      <td>Action,Military,Adventure,Comedy,Drama,Magic,F...</td>\n",
       "      <td>24 min. per ep.</td>\n",
       "      <td>R</td>\n",
       "      <td>9.25</td>\n",
       "      <td>In order for something to be obtained  someth...</td>\n",
       "    </tr>\n",
       "    <tr>\n",
       "      <th>95</th>\n",
       "      <td>Cross Game</td>\n",
       "      <td>TV</td>\n",
       "      <td>50</td>\n",
       "      <td>2009-4-5</td>\n",
       "      <td>2010-3-28</td>\n",
       "      <td>-</td>\n",
       "      <td>Manga</td>\n",
       "      <td>Comedy,Drama,Romance,School,Sports</td>\n",
       "      <td>23 min. per ep.</td>\n",
       "      <td>PG-13</td>\n",
       "      <td>8.50</td>\n",
       "      <td>The main character is Kou Kitamura  son of the...</td>\n",
       "    </tr>\n",
       "    <tr>\n",
       "      <th>624</th>\n",
       "      <td>Dragon Ball Kai</td>\n",
       "      <td>TV</td>\n",
       "      <td>97</td>\n",
       "      <td>2009-4-5</td>\n",
       "      <td>2011-3-27</td>\n",
       "      <td>Sundays at 09:00 (JST)</td>\n",
       "      <td>Manga</td>\n",
       "      <td>Action,Adventure,Comedy,Fantasy,Martial Arts,S...</td>\n",
       "      <td>23 min. per ep.</td>\n",
       "      <td>PG-13</td>\n",
       "      <td>7.91</td>\n",
       "      <td>Five years after the events of Dragon Ball  ma...</td>\n",
       "    </tr>\n",
       "    <tr>\n",
       "      <th>699</th>\n",
       "      <td>Hanasakeru Seishounen</td>\n",
       "      <td>TV</td>\n",
       "      <td>39</td>\n",
       "      <td>2009-4-5</td>\n",
       "      <td>2010-2-14</td>\n",
       "      <td>-</td>\n",
       "      <td>Manga</td>\n",
       "      <td>Drama,Romance,Shoujo</td>\n",
       "      <td>24 min. per ep.</td>\n",
       "      <td>PG-13</td>\n",
       "      <td>7.87</td>\n",
       "      <td>Kajika Louisa Kugami Burnsworth is the only da...</td>\n",
       "    </tr>\n",
       "    <tr>\n",
       "      <th>988</th>\n",
       "      <td>Senjou no Valkyria</td>\n",
       "      <td>TV</td>\n",
       "      <td>26</td>\n",
       "      <td>2009-4-5</td>\n",
       "      <td>2009-9-27</td>\n",
       "      <td>-</td>\n",
       "      <td>Game</td>\n",
       "      <td>Action,Military,Romance</td>\n",
       "      <td>24 min. per ep.</td>\n",
       "      <td>PG-13</td>\n",
       "      <td>7.72</td>\n",
       "      <td>Valkyria Chronicles is set in a fictitious con...</td>\n",
       "    </tr>\n",
       "    <tr>\n",
       "      <th>1179</th>\n",
       "      <td>Konnichiwa Anne  Before Green Gables</td>\n",
       "      <td>TV</td>\n",
       "      <td>39</td>\n",
       "      <td>2009-4-5</td>\n",
       "      <td>2009-12-27</td>\n",
       "      <td>Sundays at 19:30 (JST)</td>\n",
       "      <td>Novel</td>\n",
       "      <td>Drama,Historical,Kids,Slice of Life</td>\n",
       "      <td>20 min. per ep.</td>\n",
       "      <td>G</td>\n",
       "      <td>7.63</td>\n",
       "      <td>The story of what happened to Anne Shirley bef...</td>\n",
       "    </tr>\n",
       "  </tbody>\n",
       "</table>\n",
       "</div>"
      ],
      "text/plain": [
       "                                     Title Type  Episodes Start airing  \\\n",
       "0         Fullmetal Alchemist  Brotherhood   TV        64     2009-4-5   \n",
       "95                              Cross Game   TV        50     2009-4-5   \n",
       "624                        Dragon Ball Kai   TV        97     2009-4-5   \n",
       "699                  Hanasakeru Seishounen   TV        39     2009-4-5   \n",
       "988                     Senjou no Valkyria   TV        26     2009-4-5   \n",
       "1179  Konnichiwa Anne  Before Green Gables   TV        39     2009-4-5   \n",
       "\n",
       "      End airing          Broadcast time Sources  \\\n",
       "0       2010-7-4  Sundays at 17:00 (JST)   Manga   \n",
       "95     2010-3-28                       -   Manga   \n",
       "624    2011-3-27  Sundays at 09:00 (JST)   Manga   \n",
       "699    2010-2-14                       -   Manga   \n",
       "988    2009-9-27                       -    Game   \n",
       "1179  2009-12-27  Sundays at 19:30 (JST)   Novel   \n",
       "\n",
       "                                                 Genres         Duration  \\\n",
       "0     Action,Military,Adventure,Comedy,Drama,Magic,F...  24 min. per ep.   \n",
       "95                   Comedy,Drama,Romance,School,Sports  23 min. per ep.   \n",
       "624   Action,Adventure,Comedy,Fantasy,Martial Arts,S...  23 min. per ep.   \n",
       "699                                Drama,Romance,Shoujo  24 min. per ep.   \n",
       "988                             Action,Military,Romance  24 min. per ep.   \n",
       "1179                Drama,Historical,Kids,Slice of Life  20 min. per ep.   \n",
       "\n",
       "     Rating  ImDb_Score                                        Description  \n",
       "0         R        9.25   In order for something to be obtained  someth...  \n",
       "95    PG-13        8.50  The main character is Kou Kitamura  son of the...  \n",
       "624   PG-13        7.91  Five years after the events of Dragon Ball  ma...  \n",
       "699   PG-13        7.87  Kajika Louisa Kugami Burnsworth is the only da...  \n",
       "988   PG-13        7.72  Valkyria Chronicles is set in a fictitious con...  \n",
       "1179      G        7.63  The story of what happened to Anne Shirley bef...  "
      ]
     },
     "execution_count": 45,
     "metadata": {},
     "output_type": "execute_result"
    }
   ],
   "source": [
    "df[df['Start airing'] == '2009-4-5']"
   ]
  },
  {
   "cell_type": "code",
   "execution_count": 46,
   "id": "27f37f84",
   "metadata": {},
   "outputs": [
    {
     "data": {
      "text/plain": [
       "Title                        One Piece Film  Strong World Episode  \n",
       "Type                                                            OVA\n",
       "Episodes                                                          1\n",
       "Start airing                                                      -\n",
       "End airing                                                        -\n",
       "Broadcast time                                                    -\n",
       "Sources                                                       Manga\n",
       "Genres            Action,Adventure,Comedy,Fantasy,Shounen,Super ...\n",
       "Duration                                                    18 min.\n",
       "Rating                                                        PG-13\n",
       "ImDb_Score                                                     8.12\n",
       "Description       Set over 2  years prior to the main One Piece ...\n",
       "Name: 382, dtype: object"
      ]
     },
     "execution_count": 46,
     "metadata": {},
     "output_type": "execute_result"
    }
   ],
   "source": [
    "df.iloc[382]"
   ]
  },
  {
   "cell_type": "code",
   "execution_count": 47,
   "id": "54b50984",
   "metadata": {},
   "outputs": [
    {
     "data": {
      "text/plain": [
       "-             14\n",
       "2014-4-6       6\n",
       "2013-10-6      6\n",
       "2009-4-5       6\n",
       "2017-10-7      5\n",
       "              ..\n",
       "2016-4-28      1\n",
       "2011-1-22      1\n",
       "2014-9-24      1\n",
       "2008-10-17     1\n",
       "2012-6-9       1\n",
       "Name: Start airing, Length: 1170, dtype: int64"
      ]
     },
     "execution_count": 47,
     "metadata": {},
     "output_type": "execute_result"
    }
   ],
   "source": [
    "df['Start airing'].value_counts()"
   ]
  },
  {
   "cell_type": "code",
   "execution_count": 48,
   "id": "2c2643cc",
   "metadata": {},
   "outputs": [
    {
     "data": {
      "text/plain": [
       "1170"
      ]
     },
     "execution_count": 48,
     "metadata": {},
     "output_type": "execute_result"
    }
   ],
   "source": [
    "df['Start airing'].nunique()"
   ]
  },
  {
   "cell_type": "markdown",
   "id": "6602e1c3",
   "metadata": {},
   "source": [
    "# inorder to remove the inconsistency in the dataset i have replaced the date with second highest repetition"
   ]
  },
  {
   "cell_type": "code",
   "execution_count": 49,
   "id": "da2f8289",
   "metadata": {},
   "outputs": [],
   "source": [
    "df['Start airing'].replace({'-': '2014-4-6'}, inplace = True)\n"
   ]
  },
  {
   "cell_type": "code",
   "execution_count": 50,
   "id": "1c6cfdd0",
   "metadata": {},
   "outputs": [],
   "source": [
    "df['Start airing'] = pd.to_datetime(df['Start airing'])"
   ]
  },
  {
   "cell_type": "code",
   "execution_count": 51,
   "id": "5eba470e",
   "metadata": {},
   "outputs": [
    {
     "data": {
      "text/plain": [
       "array(['2009-04-05T00:00:00.000000000', '2016-08-26T00:00:00.000000000',\n",
       "       '2015-04-08T00:00:00.000000000', ...,\n",
       "       '1988-10-02T00:00:00.000000000', '2013-08-06T00:00:00.000000000',\n",
       "       '2012-06-09T00:00:00.000000000'], dtype='datetime64[ns]')"
      ]
     },
     "execution_count": 51,
     "metadata": {},
     "output_type": "execute_result"
    }
   ],
   "source": [
    "df['Start airing'].unique()"
   ]
  },
  {
   "cell_type": "code",
   "execution_count": 52,
   "id": "0cdfb3f4",
   "metadata": {},
   "outputs": [],
   "source": [
    "df['Start airing'].drop_duplicates(inplace = True)"
   ]
  },
  {
   "cell_type": "code",
   "execution_count": 53,
   "id": "42917606",
   "metadata": {},
   "outputs": [
    {
     "data": {
      "text/plain": [
       "0      2009-04-05\n",
       "1      2016-08-26\n",
       "2      2015-04-08\n",
       "3      2018-04-12\n",
       "4      2011-04-06\n",
       "          ...    \n",
       "1558   2010-07-02\n",
       "1559   2013-08-06\n",
       "1560   2009-08-01\n",
       "1561   2012-06-09\n",
       "1562   2014-07-08\n",
       "Name: Start airing, Length: 1563, dtype: datetime64[ns]"
      ]
     },
     "execution_count": 53,
     "metadata": {},
     "output_type": "execute_result"
    }
   ],
   "source": [
    "df['Start airing']"
   ]
  },
  {
   "cell_type": "code",
   "execution_count": 54,
   "id": "78069d93",
   "metadata": {},
   "outputs": [],
   "source": [
    " results = df.groupby(['Type','Title'], as_index = False)['Start airing'].value_counts().sort_values(by = 'Start airing', ascending = False).head(10)"
   ]
  },
  {
   "cell_type": "code",
   "execution_count": 55,
   "id": "91726fe2",
   "metadata": {},
   "outputs": [
    {
     "data": {
      "text/html": [
       "<div>\n",
       "<style scoped>\n",
       "    .dataframe tbody tr th:only-of-type {\n",
       "        vertical-align: middle;\n",
       "    }\n",
       "\n",
       "    .dataframe tbody tr th {\n",
       "        vertical-align: top;\n",
       "    }\n",
       "\n",
       "    .dataframe thead th {\n",
       "        text-align: right;\n",
       "    }\n",
       "</style>\n",
       "<table border=\"1\" class=\"dataframe\">\n",
       "  <thead>\n",
       "    <tr style=\"text-align: right;\">\n",
       "      <th></th>\n",
       "      <th>Type</th>\n",
       "      <th>Title</th>\n",
       "      <th>Start airing</th>\n",
       "      <th>count</th>\n",
       "    </tr>\n",
       "  </thead>\n",
       "  <tbody>\n",
       "    <tr>\n",
       "      <th>1518</th>\n",
       "      <td>TV</td>\n",
       "      <td>Wotaku ni Koi wa Muzukashii</td>\n",
       "      <td>2018-04-13</td>\n",
       "      <td>1</td>\n",
       "    </tr>\n",
       "    <tr>\n",
       "      <th>921</th>\n",
       "      <td>TV</td>\n",
       "      <td>Full Metal Panic  Invisible Victory</td>\n",
       "      <td>2018-04-13</td>\n",
       "      <td>1</td>\n",
       "    </tr>\n",
       "    <tr>\n",
       "      <th>1030</th>\n",
       "      <td>TV</td>\n",
       "      <td>Hisone to Maso-tan</td>\n",
       "      <td>2018-04-13</td>\n",
       "      <td>1</td>\n",
       "    </tr>\n",
       "    <tr>\n",
       "      <th>1426</th>\n",
       "      <td>TV</td>\n",
       "      <td>Steins Gate</td>\n",
       "      <td>2018-04-12</td>\n",
       "      <td>1</td>\n",
       "    </tr>\n",
       "    <tr>\n",
       "      <th>1037</th>\n",
       "      <td>TV</td>\n",
       "      <td>Hoozuki no Reitetsu 2nd Season  Sono Ni</td>\n",
       "      <td>2018-04-08</td>\n",
       "      <td>1</td>\n",
       "    </tr>\n",
       "    <tr>\n",
       "      <th>1303</th>\n",
       "      <td>TV</td>\n",
       "      <td>Persona 5 the Animation</td>\n",
       "      <td>2018-04-08</td>\n",
       "      <td>1</td>\n",
       "    </tr>\n",
       "    <tr>\n",
       "      <th>768</th>\n",
       "      <td>TV</td>\n",
       "      <td>Amanchu  Advance</td>\n",
       "      <td>2018-04-07</td>\n",
       "      <td>1</td>\n",
       "    </tr>\n",
       "    <tr>\n",
       "      <th>1194</th>\n",
       "      <td>TV</td>\n",
       "      <td>Major 2nd  TV</td>\n",
       "      <td>2018-04-07</td>\n",
       "      <td>1</td>\n",
       "    </tr>\n",
       "    <tr>\n",
       "      <th>827</th>\n",
       "      <td>TV</td>\n",
       "      <td>Boku no Hero Academia 3rd Season</td>\n",
       "      <td>2018-04-07</td>\n",
       "      <td>1</td>\n",
       "    </tr>\n",
       "    <tr>\n",
       "      <th>1029</th>\n",
       "      <td>TV</td>\n",
       "      <td>Hinamatsuri</td>\n",
       "      <td>2018-04-06</td>\n",
       "      <td>1</td>\n",
       "    </tr>\n",
       "  </tbody>\n",
       "</table>\n",
       "</div>"
      ],
      "text/plain": [
       "     Type                                    Title Start airing  count\n",
       "1518   TV              Wotaku ni Koi wa Muzukashii   2018-04-13      1\n",
       "921    TV      Full Metal Panic  Invisible Victory   2018-04-13      1\n",
       "1030   TV                       Hisone to Maso-tan   2018-04-13      1\n",
       "1426   TV                            Steins Gate     2018-04-12      1\n",
       "1037   TV  Hoozuki no Reitetsu 2nd Season  Sono Ni   2018-04-08      1\n",
       "1303   TV                  Persona 5 the Animation   2018-04-08      1\n",
       "768    TV                         Amanchu  Advance   2018-04-07      1\n",
       "1194   TV                           Major 2nd  TV    2018-04-07      1\n",
       "827    TV         Boku no Hero Academia 3rd Season   2018-04-07      1\n",
       "1029   TV                              Hinamatsuri   2018-04-06      1"
      ]
     },
     "execution_count": 55,
     "metadata": {},
     "output_type": "execute_result"
    }
   ],
   "source": [
    "results"
   ]
  },
  {
   "cell_type": "code",
   "execution_count": 56,
   "id": "fde03c12",
   "metadata": {},
   "outputs": [],
   "source": [
    "df['Start airing'] = df['Start airing'].astype(str)\n",
    "df['End airing'] = df['End airing'].astype(str)\n",
    "df['Year'] = df['Start airing'].str.extract(r'(\\d{4})')\n",
    "df['end_Year'] = df['End airing'].str.extract(r'(\\d{4})')\n",
    "result = df.groupby(['Type', 'Title', 'Year', 'end_Year'], as_index=False)['Start airing'].count()\n",
    "filtered_result = result[(result['Year'].isin(['1970', '2018'])) | (result['end_Year'].isin(['1970', '2018']))]\n",
    "filtered_result.reset_index(drop=True, inplace=True)\n",
    "sorted_result = filtered_result.sort_values(by='end_Year', ascending=False)"
   ]
  },
  {
   "cell_type": "code",
   "execution_count": 57,
   "id": "8bf30070",
   "metadata": {},
   "outputs": [
    {
     "data": {
      "text/html": [
       "<div>\n",
       "<style scoped>\n",
       "    .dataframe tbody tr th:only-of-type {\n",
       "        vertical-align: middle;\n",
       "    }\n",
       "\n",
       "    .dataframe tbody tr th {\n",
       "        vertical-align: top;\n",
       "    }\n",
       "\n",
       "    .dataframe thead th {\n",
       "        text-align: right;\n",
       "    }\n",
       "</style>\n",
       "<table border=\"1\" class=\"dataframe\">\n",
       "  <thead>\n",
       "    <tr style=\"text-align: right;\">\n",
       "      <th></th>\n",
       "      <th>Type</th>\n",
       "      <th>Title</th>\n",
       "      <th>Year</th>\n",
       "      <th>end_Year</th>\n",
       "      <th>Start airing</th>\n",
       "    </tr>\n",
       "  </thead>\n",
       "  <tbody>\n",
       "    <tr>\n",
       "      <th>7</th>\n",
       "      <td>TV</td>\n",
       "      <td>Dragon Ball Super</td>\n",
       "      <td>2015</td>\n",
       "      <td>2018</td>\n",
       "      <td>1</td>\n",
       "    </tr>\n",
       "  </tbody>\n",
       "</table>\n",
       "</div>"
      ],
      "text/plain": [
       "  Type              Title  Year end_Year  Start airing\n",
       "7   TV  Dragon Ball Super  2015     2018             1"
      ]
     },
     "execution_count": 57,
     "metadata": {},
     "output_type": "execute_result"
    }
   ],
   "source": [
    "sorted_result[sorted_result['Title'].str.startswith('D')]"
   ]
  },
  {
   "cell_type": "code",
   "execution_count": 58,
   "id": "f97a2643",
   "metadata": {},
   "outputs": [
    {
     "name": "stdout",
     "output_type": "stream",
     "text": [
      "<class 'pandas.core.frame.DataFrame'>\n",
      "RangeIndex: 1563 entries, 0 to 1562\n",
      "Data columns (total 14 columns):\n",
      " #   Column          Non-Null Count  Dtype  \n",
      "---  ------          --------------  -----  \n",
      " 0   Title           1563 non-null   object \n",
      " 1   Type            1563 non-null   object \n",
      " 2   Episodes        1563 non-null   int32  \n",
      " 3   Start airing    1563 non-null   object \n",
      " 4   End airing      1563 non-null   object \n",
      " 5   Broadcast time  1563 non-null   object \n",
      " 6   Sources         1563 non-null   object \n",
      " 7   Genres          1563 non-null   object \n",
      " 8   Duration        1563 non-null   object \n",
      " 9   Rating          1563 non-null   object \n",
      " 10  ImDb_Score      1563 non-null   float64\n",
      " 11  Description     1563 non-null   object \n",
      " 12  Year            1563 non-null   object \n",
      " 13  end_Year        978 non-null    object \n",
      "dtypes: float64(1), int32(1), object(12)\n",
      "memory usage: 165.0+ KB\n"
     ]
    }
   ],
   "source": [
    "df.info()"
   ]
  },
  {
   "cell_type": "code",
   "execution_count": 59,
   "id": "8de31d29",
   "metadata": {},
   "outputs": [
    {
     "data": {
      "text/plain": [
       "7.55    31\n",
       "7.57    30\n",
       "7.56    30\n",
       "7.50    29\n",
       "7.66    28\n",
       "        ..\n",
       "8.62     1\n",
       "9.19     1\n",
       "8.58     1\n",
       "8.53     1\n",
       "9.25     1\n",
       "Name: ImDb_Score, Length: 146, dtype: int64"
      ]
     },
     "execution_count": 59,
     "metadata": {},
     "output_type": "execute_result"
    }
   ],
   "source": [
    "df['ImDb_Score'].value_counts()"
   ]
  },
  {
   "cell_type": "code",
   "execution_count": 60,
   "id": "63ac1c8b",
   "metadata": {},
   "outputs": [],
   "source": [
    "df['ImDb_Score'] = df['ImDb_Score'].astype(int)"
   ]
  },
  {
   "cell_type": "code",
   "execution_count": 61,
   "id": "af1b0efe",
   "metadata": {},
   "outputs": [
    {
     "data": {
      "image/png": "[encoded data removed]",
      "text/plain": [
       "<Figure size 2200x1100 with 1 Axes>"
      ]
     },
     "metadata": {},
     "output_type": "display_data"
    }
   ],
   "source": [
    "imbd = sns.barplot(x = 'Title' , y = 'ImDb_Score', data = df.head(10) )"
   ]
  },
  {
   "cell_type": "code",
   "execution_count": 62,
   "id": "68235b55",
   "metadata": {},
   "outputs": [
    {
     "data": {
      "image/png": "[encoded data removed]",
      "text/plain": [
       "<Figure size 2200x1100 with 1 Axes>"
      ]
     },
     "metadata": {},
     "output_type": "display_data"
    }
   ],
   "source": [
    "df_sorted = df.sort_values(by='ImDb_Score', ascending=False)\n",
    "imdb_barplot = sns.barplot(x='Title', y='ImDb_Score', data=df_sorted.head(50))\n",
    "plt.xlabel('Title')\n",
    "plt.ylabel('IMDb Score')\n",
    "plt.title('Top 10 IMDb Scores')\n",
    "plt.xticks(rotation=45) \n",
    "plt.tight_layout()  \n",
    "plt.show()"
   ]
  },
  {
   "cell_type": "code",
   "execution_count": 63,
   "id": "2bb185cc",
   "metadata": {},
   "outputs": [
    {
     "data": {
      "text/html": [
       "<div>\n",
       "<style scoped>\n",
       "    .dataframe tbody tr th:only-of-type {\n",
       "        vertical-align: middle;\n",
       "    }\n",
       "\n",
       "    .dataframe tbody tr th {\n",
       "        vertical-align: top;\n",
       "    }\n",
       "\n",
       "    .dataframe thead th {\n",
       "        text-align: right;\n",
       "    }\n",
       "</style>\n",
       "<table border=\"1\" class=\"dataframe\">\n",
       "  <thead>\n",
       "    <tr style=\"text-align: right;\">\n",
       "      <th></th>\n",
       "      <th>Title</th>\n",
       "      <th>Type</th>\n",
       "      <th>Episodes</th>\n",
       "      <th>Start airing</th>\n",
       "      <th>End airing</th>\n",
       "      <th>Broadcast time</th>\n",
       "      <th>Sources</th>\n",
       "      <th>Genres</th>\n",
       "      <th>Duration</th>\n",
       "      <th>Rating</th>\n",
       "      <th>ImDb_Score</th>\n",
       "      <th>Description</th>\n",
       "      <th>Year</th>\n",
       "      <th>end_Year</th>\n",
       "    </tr>\n",
       "  </thead>\n",
       "  <tbody>\n",
       "    <tr>\n",
       "      <th>0</th>\n",
       "      <td>Fullmetal Alchemist  Brotherhood</td>\n",
       "      <td>TV</td>\n",
       "      <td>64</td>\n",
       "      <td>2009-04-05</td>\n",
       "      <td>2010-7-4</td>\n",
       "      <td>Sundays at 17:00 (JST)</td>\n",
       "      <td>Manga</td>\n",
       "      <td>Action,Military,Adventure,Comedy,Drama,Magic,F...</td>\n",
       "      <td>24 min. per ep.</td>\n",
       "      <td>R</td>\n",
       "      <td>9</td>\n",
       "      <td>In order for something to be obtained  someth...</td>\n",
       "      <td>2009</td>\n",
       "      <td>2010</td>\n",
       "    </tr>\n",
       "    <tr>\n",
       "      <th>1</th>\n",
       "      <td>Kimi no Na wa</td>\n",
       "      <td>Movie</td>\n",
       "      <td>1</td>\n",
       "      <td>2016-08-26</td>\n",
       "      <td>-</td>\n",
       "      <td>-</td>\n",
       "      <td>Original</td>\n",
       "      <td>Supernatural,Drama,Romance,School</td>\n",
       "      <td>1 hr. 46 min.</td>\n",
       "      <td>PG-13</td>\n",
       "      <td>9</td>\n",
       "      <td>Mitsuha Miyamizu  a high school girl  yearns t...</td>\n",
       "      <td>2016</td>\n",
       "      <td>NaN</td>\n",
       "    </tr>\n",
       "    <tr>\n",
       "      <th>2</th>\n",
       "      <td>Gintama</td>\n",
       "      <td>TV</td>\n",
       "      <td>51</td>\n",
       "      <td>2015-04-08</td>\n",
       "      <td>2016-3-30</td>\n",
       "      <td>Wednesdays at 18:00 (JST)</td>\n",
       "      <td>Manga</td>\n",
       "      <td>Action,Comedy,Historical,Parody,Samurai,Sci-Fi...</td>\n",
       "      <td>24 min. per ep.</td>\n",
       "      <td>R</td>\n",
       "      <td>9</td>\n",
       "      <td>Gintoki  Shinpachi  and Kagura return as the f...</td>\n",
       "      <td>2015</td>\n",
       "      <td>2016</td>\n",
       "    </tr>\n",
       "    <tr>\n",
       "      <th>3</th>\n",
       "      <td>Steins Gate</td>\n",
       "      <td>TV</td>\n",
       "      <td>23</td>\n",
       "      <td>2018-04-12</td>\n",
       "      <td>-</td>\n",
       "      <td>Thursdays at 01:35 (JST)</td>\n",
       "      <td>Visual novel</td>\n",
       "      <td>Sci-Fi,Thriller</td>\n",
       "      <td>23 min. per ep.</td>\n",
       "      <td>PG-13</td>\n",
       "      <td>9</td>\n",
       "      <td>The dark untold story of Steins Gate that lead...</td>\n",
       "      <td>2018</td>\n",
       "      <td>NaN</td>\n",
       "    </tr>\n",
       "    <tr>\n",
       "      <th>4</th>\n",
       "      <td>Steins Gate</td>\n",
       "      <td>TV</td>\n",
       "      <td>24</td>\n",
       "      <td>2011-04-06</td>\n",
       "      <td>2011-9-14</td>\n",
       "      <td>Wednesdays at 02:05 (JST)</td>\n",
       "      <td>Visual novel</td>\n",
       "      <td>Sci-Fi,Thriller</td>\n",
       "      <td>24 min. per ep.</td>\n",
       "      <td>PG-13</td>\n",
       "      <td>9</td>\n",
       "      <td>The self-proclaimed mad scientist Rintarou Oka...</td>\n",
       "      <td>2011</td>\n",
       "      <td>2011</td>\n",
       "    </tr>\n",
       "  </tbody>\n",
       "</table>\n",
       "</div>"
      ],
      "text/plain": [
       "                              Title   Type  Episodes Start airing End airing  \\\n",
       "0  Fullmetal Alchemist  Brotherhood     TV        64   2009-04-05   2010-7-4   \n",
       "1                    Kimi no Na wa   Movie         1   2016-08-26          -   \n",
       "2                         Gintama       TV        51   2015-04-08  2016-3-30   \n",
       "3                     Steins Gate       TV        23   2018-04-12          -   \n",
       "4                       Steins Gate     TV        24   2011-04-06  2011-9-14   \n",
       "\n",
       "              Broadcast time       Sources  \\\n",
       "0     Sundays at 17:00 (JST)         Manga   \n",
       "1                          -      Original   \n",
       "2  Wednesdays at 18:00 (JST)         Manga   \n",
       "3   Thursdays at 01:35 (JST)  Visual novel   \n",
       "4  Wednesdays at 02:05 (JST)  Visual novel   \n",
       "\n",
       "                                              Genres         Duration Rating  \\\n",
       "0  Action,Military,Adventure,Comedy,Drama,Magic,F...  24 min. per ep.      R   \n",
       "1                  Supernatural,Drama,Romance,School    1 hr. 46 min.  PG-13   \n",
       "2  Action,Comedy,Historical,Parody,Samurai,Sci-Fi...  24 min. per ep.      R   \n",
       "3                                    Sci-Fi,Thriller  23 min. per ep.  PG-13   \n",
       "4                                    Sci-Fi,Thriller  24 min. per ep.  PG-13   \n",
       "\n",
       "   ImDb_Score                                        Description  Year  \\\n",
       "0           9   In order for something to be obtained  someth...  2009   \n",
       "1           9  Mitsuha Miyamizu  a high school girl  yearns t...  2016   \n",
       "2           9  Gintoki  Shinpachi  and Kagura return as the f...  2015   \n",
       "3           9  The dark untold story of Steins Gate that lead...  2018   \n",
       "4           9  The self-proclaimed mad scientist Rintarou Oka...  2011   \n",
       "\n",
       "  end_Year  \n",
       "0     2010  \n",
       "1      NaN  \n",
       "2     2016  \n",
       "3      NaN  \n",
       "4     2011  "
      ]
     },
     "execution_count": 63,
     "metadata": {},
     "output_type": "execute_result"
    }
   ],
   "source": [
    "df.head()"
   ]
  },
  {
   "cell_type": "code",
   "execution_count": 64,
   "id": "7d9eb204",
   "metadata": {},
   "outputs": [
    {
     "ename": "KeyError",
     "evalue": "\"None of [Index([''], dtype='object')] are in the [columns]\"",
     "output_type": "error",
     "traceback": [
      "\u001b[1;31m---------------------------------------------------------------------------\u001b[0m",
      "\u001b[1;31mKeyError\u001b[0m                                  Traceback (most recent call last)",
      "Cell \u001b[1;32mIn[64], line 1\u001b[0m\n\u001b[1;32m----> 1\u001b[0m correlation \u001b[38;5;241m=\u001b[39m \u001b[43mdf\u001b[49m\u001b[43m[\u001b[49m\u001b[43m[\u001b[49m\u001b[38;5;124;43m'\u001b[39;49m\u001b[38;5;124;43m'\u001b[39;49m\u001b[43m]\u001b[49m\u001b[43m]\u001b[49m\n",
      "File \u001b[1;32m~\\AppData\\Local\\Programs\\Python\\Python311\\Lib\\site-packages\\pandas\\core\\frame.py:3813\u001b[0m, in \u001b[0;36mDataFrame.__getitem__\u001b[1;34m(self, key)\u001b[0m\n\u001b[0;32m   3811\u001b[0m     \u001b[38;5;28;01mif\u001b[39;00m is_iterator(key):\n\u001b[0;32m   3812\u001b[0m         key \u001b[38;5;241m=\u001b[39m \u001b[38;5;28mlist\u001b[39m(key)\n\u001b[1;32m-> 3813\u001b[0m     indexer \u001b[38;5;241m=\u001b[39m \u001b[38;5;28;43mself\u001b[39;49m\u001b[38;5;241;43m.\u001b[39;49m\u001b[43mcolumns\u001b[49m\u001b[38;5;241;43m.\u001b[39;49m\u001b[43m_get_indexer_strict\u001b[49m\u001b[43m(\u001b[49m\u001b[43mkey\u001b[49m\u001b[43m,\u001b[49m\u001b[43m \u001b[49m\u001b[38;5;124;43m\"\u001b[39;49m\u001b[38;5;124;43mcolumns\u001b[39;49m\u001b[38;5;124;43m\"\u001b[39;49m\u001b[43m)\u001b[49m[\u001b[38;5;241m1\u001b[39m]\n\u001b[0;32m   3815\u001b[0m \u001b[38;5;66;03m# take() does not accept boolean indexers\u001b[39;00m\n\u001b[0;32m   3816\u001b[0m \u001b[38;5;28;01mif\u001b[39;00m \u001b[38;5;28mgetattr\u001b[39m(indexer, \u001b[38;5;124m\"\u001b[39m\u001b[38;5;124mdtype\u001b[39m\u001b[38;5;124m\"\u001b[39m, \u001b[38;5;28;01mNone\u001b[39;00m) \u001b[38;5;241m==\u001b[39m \u001b[38;5;28mbool\u001b[39m:\n",
      "File \u001b[1;32m~\\AppData\\Local\\Programs\\Python\\Python311\\Lib\\site-packages\\pandas\\core\\indexes\\base.py:6070\u001b[0m, in \u001b[0;36mIndex._get_indexer_strict\u001b[1;34m(self, key, axis_name)\u001b[0m\n\u001b[0;32m   6067\u001b[0m \u001b[38;5;28;01melse\u001b[39;00m:\n\u001b[0;32m   6068\u001b[0m     keyarr, indexer, new_indexer \u001b[38;5;241m=\u001b[39m \u001b[38;5;28mself\u001b[39m\u001b[38;5;241m.\u001b[39m_reindex_non_unique(keyarr)\n\u001b[1;32m-> 6070\u001b[0m \u001b[38;5;28;43mself\u001b[39;49m\u001b[38;5;241;43m.\u001b[39;49m\u001b[43m_raise_if_missing\u001b[49m\u001b[43m(\u001b[49m\u001b[43mkeyarr\u001b[49m\u001b[43m,\u001b[49m\u001b[43m \u001b[49m\u001b[43mindexer\u001b[49m\u001b[43m,\u001b[49m\u001b[43m \u001b[49m\u001b[43maxis_name\u001b[49m\u001b[43m)\u001b[49m\n\u001b[0;32m   6072\u001b[0m keyarr \u001b[38;5;241m=\u001b[39m \u001b[38;5;28mself\u001b[39m\u001b[38;5;241m.\u001b[39mtake(indexer)\n\u001b[0;32m   6073\u001b[0m \u001b[38;5;28;01mif\u001b[39;00m \u001b[38;5;28misinstance\u001b[39m(key, Index):\n\u001b[0;32m   6074\u001b[0m     \u001b[38;5;66;03m# GH 42790 - Preserve name from an Index\u001b[39;00m\n",
      "File \u001b[1;32m~\\AppData\\Local\\Programs\\Python\\Python311\\Lib\\site-packages\\pandas\\core\\indexes\\base.py:6130\u001b[0m, in \u001b[0;36mIndex._raise_if_missing\u001b[1;34m(self, key, indexer, axis_name)\u001b[0m\n\u001b[0;32m   6128\u001b[0m     \u001b[38;5;28;01mif\u001b[39;00m use_interval_msg:\n\u001b[0;32m   6129\u001b[0m         key \u001b[38;5;241m=\u001b[39m \u001b[38;5;28mlist\u001b[39m(key)\n\u001b[1;32m-> 6130\u001b[0m     \u001b[38;5;28;01mraise\u001b[39;00m \u001b[38;5;167;01mKeyError\u001b[39;00m(\u001b[38;5;124mf\u001b[39m\u001b[38;5;124m\"\u001b[39m\u001b[38;5;124mNone of [\u001b[39m\u001b[38;5;132;01m{\u001b[39;00mkey\u001b[38;5;132;01m}\u001b[39;00m\u001b[38;5;124m] are in the [\u001b[39m\u001b[38;5;132;01m{\u001b[39;00maxis_name\u001b[38;5;132;01m}\u001b[39;00m\u001b[38;5;124m]\u001b[39m\u001b[38;5;124m\"\u001b[39m)\n\u001b[0;32m   6132\u001b[0m not_found \u001b[38;5;241m=\u001b[39m \u001b[38;5;28mlist\u001b[39m(ensure_index(key)[missing_mask\u001b[38;5;241m.\u001b[39mnonzero()[\u001b[38;5;241m0\u001b[39m]]\u001b[38;5;241m.\u001b[39munique())\n\u001b[0;32m   6133\u001b[0m \u001b[38;5;28;01mraise\u001b[39;00m \u001b[38;5;167;01mKeyError\u001b[39;00m(\u001b[38;5;124mf\u001b[39m\u001b[38;5;124m\"\u001b[39m\u001b[38;5;132;01m{\u001b[39;00mnot_found\u001b[38;5;132;01m}\u001b[39;00m\u001b[38;5;124m not in index\u001b[39m\u001b[38;5;124m\"\u001b[39m)\n",
      "\u001b[1;31mKeyError\u001b[0m: \"None of [Index([''], dtype='object')] are in the [columns]\""
     ]
    }
   ],
   "source": [
    "correlation = df[['']]"
   ]
  },
  {
   "cell_type": "code",
   "execution_count": null,
   "id": "1872ac04",
   "metadata": {},
   "outputs": [],
   "source": [
    "df[df['Title']=='Fullmetal Alchemist  Brotherhood']"
   ]
  },
  {
   "cell_type": "code",
   "execution_count": null,
   "id": "98502b64",
   "metadata": {},
   "outputs": [],
   "source": [
    "df.describe()"
   ]
  },
  {
   "cell_type": "code",
   "execution_count": null,
   "id": "7566f8ca",
   "metadata": {},
   "outputs": [],
   "source": [
    "import pandas as pd\n",
    "from scipy.stats import pearsonr\n",
    "\n",
    "# Sample data with non-numeric categorical variables\n",
    "data = pd.DataFrame({'Category1': ['A', 'B', 'A', 'C', 'B'],\n",
    "                     'Category2': ['X', 'Y', 'X', 'Z', 'Y'],\n",
    "                     'NumericVariable': [10, 15, 20, 25, 30]})\n",
    "\n",
    "# Label encode categorical variables\n",
    "data['Category1'] = data['Category1'].astype('category').cat.codes\n",
    "data['Category2'] = data['Category2'].astype('category').cat.codes\n",
    "\n",
    "# Calculate Pearson correlation between encoded categorical variables and numeric variable\n",
    "corr_coef, p_value = pearsonr(data['Category1'], data['NumericVariable'])\n",
    "print(f\"Pearson Correlation Coefficient between Category1 and NumericVariable: {corr_coef}\")\n"
   ]
  },
  {
   "cell_type": "code",
   "execution_count": null,
   "id": "f2c1b28b",
   "metadata": {},
   "outputs": [],
   "source": [
    "sns.pairplot(data = df)"
   ]
  },
  {
   "cell_type": "code",
   "execution_count": null,
   "id": "83676369",
   "metadata": {},
   "outputs": [],
   "source": [
    "# Filter out non-numeric columns\n",
    "numeric_df = df.select_dtypes(include=['float64', 'int64'])\n",
    "\n",
    "# Calculate the correlation matrix for numeric columns only\n",
    "correlation_matrix = numeric_df.corr()"
   ]
  },
  {
   "cell_type": "code",
   "execution_count": null,
   "id": "216d4a32",
   "metadata": {},
   "outputs": [],
   "source": [
    "sns.pairplot(data = df, hue = 'Type')"
   ]
  },
  {
   "cell_type": "code",
   "execution_count": null,
   "id": "9b5ae7d1",
   "metadata": {},
   "outputs": [],
   "source": []
  }
 ],
 "metadata": {
  "kernelspec": {
   "display_name": "Python 3 (ipykernel)",
   "language": "python",
   "name": "python3"
  },
  "language_info": {
   "codemirror_mode": {
    "name": "ipython",
    "version": 3
   },
   "file_extension": ".py",
   "mimetype": "text/x-python",
   "name": "python",
   "nbconvert_exporter": "python",
   "pygments_lexer": "ipython3",
   "version": "3.11.0"
  }
 },
 "nbformat": 4,
 "nbformat_minor": 5
}
